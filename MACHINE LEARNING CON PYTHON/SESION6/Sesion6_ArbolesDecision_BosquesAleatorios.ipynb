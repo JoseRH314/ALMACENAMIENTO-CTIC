{
  "cells": [
    {
      "cell_type": "code",
      "execution_count": null,
      "metadata": {
        "id": "5Yuw0yLHTJbr"
      },
      "outputs": [],
      "source": [
        "# Modulos y datos \n",
        "import os \n",
        "import numpy as np\n",
        "import pandas as pd\n",
        "import matplotlib.pyplot as plt\n",
        "import seaborn as sns \n",
        "\n",
        "# Machine learning\n",
        "from sklearn.model_selection import train_test_split\n",
        "from sklearn.tree import DecisionTreeClassifier, DecisionTreeRegressor\n",
        "from sklearn import metrics\n",
        "\n",
        "# Guardar en disco duro las reglas de decision de nuestros arboles\n",
        "# from sklearn.tree import export_text\n",
        "\n",
        "# dataset \n",
        "train= pd.read_csv(\"https://raw.githubusercontent.com/robintux/Datasets4StackOverFlowQuestions/master/titanic_train.csv\")"
      ]
    },
    {
      "cell_type": "code",
      "execution_count": null,
      "metadata": {
        "id": "J0WP0X_9Wg_x"
      },
      "outputs": [],
      "source": [
        "# Analicemos la clase DecisionTreeClassifier\n",
        "help(DecisionTreeClassifier)"
      ]
    },
    {
      "cell_type": "code",
      "execution_count": null,
      "metadata": {
        "colab": {
          "base_uri": "https://localhost:8080/"
        },
        "id": "KrAcdS1YYQUx",
        "outputId": "2d4d9b33-74e5-4715-bab1-a2379b935d28"
      },
      "outputs": [
        {
          "data": {
            "text/plain": [
              "Index(['PassengerId', 'Survived', 'Pclass', 'Name', 'Sex', 'Age', 'SibSp',\n",
              "       'Parch', 'Ticket', 'Fare', 'Cabin', 'Embarked'],\n",
              "      dtype='object')"
            ]
          },
          "execution_count": 3,
          "metadata": {},
          "output_type": "execute_result"
        }
      ],
      "source": [
        "# Preprocesamiento de los datos \n",
        "# \n",
        "# Nombres de las columnas\n",
        "train.columns"
      ]
    },
    {
      "cell_type": "code",
      "execution_count": null,
      "metadata": {
        "colab": {
          "base_uri": "https://localhost:8080/"
        },
        "id": "OekTn-ZVYmOm",
        "outputId": "23704db6-643f-40ba-f56c-266d996af693"
      },
      "outputs": [
        {
          "data": {
            "text/plain": [
              "Cabin          77.104377\n",
              "Age            19.865320\n",
              "Embarked        0.224467\n",
              "PassengerId     0.000000\n",
              "Survived        0.000000\n",
              "Pclass          0.000000\n",
              "Name            0.000000\n",
              "Sex             0.000000\n",
              "SibSp           0.000000\n",
              "Parch           0.000000\n",
              "Ticket          0.000000\n",
              "Fare            0.000000\n",
              "dtype: float64"
            ]
          },
          "execution_count": 5,
          "metadata": {},
          "output_type": "execute_result"
        }
      ],
      "source": [
        "# Valores faltantes (ver como porcentajes) \n",
        "train.isnull().sum().sort_values(ascending = False)/train.shape[0]*100"
      ]
    },
    {
      "cell_type": "code",
      "execution_count": null,
      "metadata": {
        "colab": {
          "base_uri": "https://localhost:8080/",
          "height": 143
        },
        "id": "Oqr2xz5wZPst",
        "outputId": "0ea730c7-82fc-41da-84dd-5d7697da628d"
      },
      "outputs": [
        {
          "data": {
            "text/html": [
              "\n",
              "  <div id=\"df-abee02dc-cb63-4efb-81d8-d9813d07de5e\">\n",
              "    <div class=\"colab-df-container\">\n",
              "      <div>\n",
              "<style scoped>\n",
              "    .dataframe tbody tr th:only-of-type {\n",
              "        vertical-align: middle;\n",
              "    }\n",
              "\n",
              "    .dataframe tbody tr th {\n",
              "        vertical-align: top;\n",
              "    }\n",
              "\n",
              "    .dataframe thead th {\n",
              "        text-align: right;\n",
              "    }\n",
              "</style>\n",
              "<table border=\"1\" class=\"dataframe\">\n",
              "  <thead>\n",
              "    <tr style=\"text-align: right;\">\n",
              "      <th></th>\n",
              "      <th>EntrenamientoTitanic</th>\n",
              "    </tr>\n",
              "  </thead>\n",
              "  <tbody>\n",
              "    <tr>\n",
              "      <th>Age</th>\n",
              "      <td>177</td>\n",
              "    </tr>\n",
              "    <tr>\n",
              "      <th>Cabin</th>\n",
              "      <td>687</td>\n",
              "    </tr>\n",
              "    <tr>\n",
              "      <th>Embarked</th>\n",
              "      <td>2</td>\n",
              "    </tr>\n",
              "  </tbody>\n",
              "</table>\n",
              "</div>\n",
              "      <button class=\"colab-df-convert\" onclick=\"convertToInteractive('df-abee02dc-cb63-4efb-81d8-d9813d07de5e')\"\n",
              "              title=\"Convert this dataframe to an interactive table.\"\n",
              "              style=\"display:none;\">\n",
              "        \n",
              "  <svg xmlns=\"http://www.w3.org/2000/svg\" height=\"24px\"viewBox=\"0 0 24 24\"\n",
              "       width=\"24px\">\n",
              "    <path d=\"M0 0h24v24H0V0z\" fill=\"none\"/>\n",
              "    <path d=\"M18.56 5.44l.94 2.06.94-2.06 2.06-.94-2.06-.94-.94-2.06-.94 2.06-2.06.94zm-11 1L8.5 8.5l.94-2.06 2.06-.94-2.06-.94L8.5 2.5l-.94 2.06-2.06.94zm10 10l.94 2.06.94-2.06 2.06-.94-2.06-.94-.94-2.06-.94 2.06-2.06.94z\"/><path d=\"M17.41 7.96l-1.37-1.37c-.4-.4-.92-.59-1.43-.59-.52 0-1.04.2-1.43.59L10.3 9.45l-7.72 7.72c-.78.78-.78 2.05 0 2.83L4 21.41c.39.39.9.59 1.41.59.51 0 1.02-.2 1.41-.59l7.78-7.78 2.81-2.81c.8-.78.8-2.07 0-2.86zM5.41 20L4 18.59l7.72-7.72 1.47 1.35L5.41 20z\"/>\n",
              "  </svg>\n",
              "      </button>\n",
              "      \n",
              "  <style>\n",
              "    .colab-df-container {\n",
              "      display:flex;\n",
              "      flex-wrap:wrap;\n",
              "      gap: 12px;\n",
              "    }\n",
              "\n",
              "    .colab-df-convert {\n",
              "      background-color: #E8F0FE;\n",
              "      border: none;\n",
              "      border-radius: 50%;\n",
              "      cursor: pointer;\n",
              "      display: none;\n",
              "      fill: #1967D2;\n",
              "      height: 32px;\n",
              "      padding: 0 0 0 0;\n",
              "      width: 32px;\n",
              "    }\n",
              "\n",
              "    .colab-df-convert:hover {\n",
              "      background-color: #E2EBFA;\n",
              "      box-shadow: 0px 1px 2px rgba(60, 64, 67, 0.3), 0px 1px 3px 1px rgba(60, 64, 67, 0.15);\n",
              "      fill: #174EA6;\n",
              "    }\n",
              "\n",
              "    [theme=dark] .colab-df-convert {\n",
              "      background-color: #3B4455;\n",
              "      fill: #D2E3FC;\n",
              "    }\n",
              "\n",
              "    [theme=dark] .colab-df-convert:hover {\n",
              "      background-color: #434B5C;\n",
              "      box-shadow: 0px 1px 3px 1px rgba(0, 0, 0, 0.15);\n",
              "      filter: drop-shadow(0px 1px 2px rgba(0, 0, 0, 0.3));\n",
              "      fill: #FFFFFF;\n",
              "    }\n",
              "  </style>\n",
              "\n",
              "      <script>\n",
              "        const buttonEl =\n",
              "          document.querySelector('#df-abee02dc-cb63-4efb-81d8-d9813d07de5e button.colab-df-convert');\n",
              "        buttonEl.style.display =\n",
              "          google.colab.kernel.accessAllowed ? 'block' : 'none';\n",
              "\n",
              "        async function convertToInteractive(key) {\n",
              "          const element = document.querySelector('#df-abee02dc-cb63-4efb-81d8-d9813d07de5e');\n",
              "          const dataTable =\n",
              "            await google.colab.kernel.invokeFunction('convertToInteractive',\n",
              "                                                     [key], {});\n",
              "          if (!dataTable) return;\n",
              "\n",
              "          const docLinkHtml = 'Like what you see? Visit the ' +\n",
              "            '<a target=\"_blank\" href=https://colab.research.google.com/notebooks/data_table.ipynb>data table notebook</a>'\n",
              "            + ' to learn more about interactive tables.';\n",
              "          element.innerHTML = '';\n",
              "          dataTable['output_type'] = 'display_data';\n",
              "          await google.colab.output.renderOutput(dataTable, element);\n",
              "          const docLink = document.createElement('div');\n",
              "          docLink.innerHTML = docLinkHtml;\n",
              "          element.appendChild(docLink);\n",
              "        }\n",
              "      </script>\n",
              "    </div>\n",
              "  </div>\n",
              "  "
            ],
            "text/plain": [
              "          EntrenamientoTitanic\n",
              "Age                        177\n",
              "Cabin                      687\n",
              "Embarked                     2"
            ]
          },
          "execution_count": 8,
          "metadata": {},
          "output_type": "execute_result"
        }
      ],
      "source": [
        "# Separemos solo las columnas con valores faltantes \n",
        "Faltantes = pd.concat([train.isnull().sum()],\n",
        "                      axis = 1, \n",
        "                      keys = [\"EntrenamientoTitanic\"])\n",
        "Faltantes[Faltantes.sum(axis = 1) >0]"
      ]
    },
    {
      "cell_type": "code",
      "execution_count": null,
      "metadata": {
        "colab": {
          "base_uri": "https://localhost:8080/"
        },
        "id": "rR6wGnKVaG0o",
        "outputId": "006edc0f-2995-4001-a93b-b3251a88bda8"
      },
      "outputs": [
        {
          "data": {
            "text/plain": [
              "0             A/5 21171\n",
              "1              PC 17599\n",
              "2      STON/O2. 3101282\n",
              "3                113803\n",
              "4                373450\n",
              "             ...       \n",
              "886              211536\n",
              "887              112053\n",
              "888          W./C. 6607\n",
              "889              111369\n",
              "890              370376\n",
              "Name: Ticket, Length: 891, dtype: object"
            ]
          },
          "execution_count": 9,
          "metadata": {},
          "output_type": "execute_result"
        }
      ],
      "source": [
        "# eliminemos algunas columnas que no aportan informacion \n",
        "# al modelo \n",
        "train.pop(\"PassengerId\")\n",
        "train.pop(\"Cabin\")\n",
        "train.pop(\"Name\")\n",
        "train.pop(\"Ticket\")"
      ]
    },
    {
      "cell_type": "code",
      "execution_count": null,
      "metadata": {
        "colab": {
          "base_uri": "https://localhost:8080/"
        },
        "id": "vginnIMzadLS",
        "outputId": "ff19d5ae-874d-4bce-8eb2-561c75d3f513"
      },
      "outputs": [
        {
          "name": "stdout",
          "output_type": "stream",
          "text": [
            "<class 'pandas.core.frame.DataFrame'>\n",
            "RangeIndex: 891 entries, 0 to 890\n",
            "Data columns (total 8 columns):\n",
            " #   Column    Non-Null Count  Dtype  \n",
            "---  ------    --------------  -----  \n",
            " 0   Survived  891 non-null    int64  \n",
            " 1   Pclass    891 non-null    int64  \n",
            " 2   Sex       891 non-null    object \n",
            " 3   Age       714 non-null    float64\n",
            " 4   SibSp     891 non-null    int64  \n",
            " 5   Parch     891 non-null    int64  \n",
            " 6   Fare      891 non-null    float64\n",
            " 7   Embarked  889 non-null    object \n",
            "dtypes: float64(2), int64(4), object(2)\n",
            "memory usage: 55.8+ KB\n"
          ]
        }
      ],
      "source": [
        "# Observemos que columnas aun mantienen valores faltantes : Age y Embarked\n",
        "train.info()"
      ]
    },
    {
      "cell_type": "code",
      "execution_count": null,
      "metadata": {
        "id": "-Fyssk8Ras53"
      },
      "outputs": [],
      "source": [
        "# Imputemos/rellenemos los valores faltantes de las columnas Age y Embarked\n"
      ]
    },
    {
      "cell_type": "code",
      "execution_count": null,
      "metadata": {
        "id": "f36wExI0a6dW"
      },
      "outputs": [],
      "source": [
        "# En vista de que Age es una variable cuantitativa imputemosla \n",
        "# usando la media de los valores \n",
        "train.Age = train.Age.fillna(train.Age.mean())"
      ]
    },
    {
      "cell_type": "code",
      "execution_count": null,
      "metadata": {
        "id": "xUN8T0EPbFF4"
      },
      "outputs": [],
      "source": [
        "# Tambien observamos que la columna embarked es una variable\n",
        "# cualitativa, entonces imputemos los valores faltantes usando\n",
        "# la moda\n",
        "train.Embarked = train.Embarked.fillna(train.Embarked.mode()[0])"
      ]
    },
    {
      "cell_type": "code",
      "execution_count": null,
      "metadata": {
        "colab": {
          "base_uri": "https://localhost:8080/"
        },
        "id": "rkeKyafdbeqa",
        "outputId": "24251560-43da-4aad-bf01-6750a09cc872"
      },
      "outputs": [
        {
          "name": "stdout",
          "output_type": "stream",
          "text": [
            "<class 'pandas.core.frame.DataFrame'>\n",
            "RangeIndex: 891 entries, 0 to 890\n",
            "Data columns (total 8 columns):\n",
            " #   Column    Non-Null Count  Dtype  \n",
            "---  ------    --------------  -----  \n",
            " 0   Survived  891 non-null    int64  \n",
            " 1   Pclass    891 non-null    int64  \n",
            " 2   Sex       891 non-null    object \n",
            " 3   Age       891 non-null    float64\n",
            " 4   SibSp     891 non-null    int64  \n",
            " 5   Parch     891 non-null    int64  \n",
            " 6   Fare      891 non-null    float64\n",
            " 7   Embarked  891 non-null    object \n",
            "dtypes: float64(2), int64(4), object(2)\n",
            "memory usage: 55.8+ KB\n"
          ]
        }
      ],
      "source": [
        "# INfo del dataframe \n",
        "train.info()"
      ]
    },
    {
      "cell_type": "code",
      "execution_count": null,
      "metadata": {
        "id": "BiuDZ5aIbzaY"
      },
      "outputs": [],
      "source": [
        "# Tecnica/Estrategia 1  : Una variable cuantitativa la transformamos en cualitativa\n",
        "# Analicemos Pclass\n",
        "train.Pclass.unique()\n",
        "# Dada la informacion que busca proveer esta columna, transformemos la variables\n",
        "# Pclass en una variable de tipo str\n",
        "train.Pclass = train.Pclass.apply(str)"
      ]
    },
    {
      "cell_type": "code",
      "execution_count": null,
      "metadata": {
        "colab": {
          "base_uri": "https://localhost:8080/"
        },
        "id": "K_epzvmfcdfi",
        "outputId": "38cbf9d0-8585-4137-9a60-481cdfa4aeb2"
      },
      "outputs": [
        {
          "name": "stdout",
          "output_type": "stream",
          "text": [
            "<class 'pandas.core.frame.DataFrame'>\n",
            "RangeIndex: 891 entries, 0 to 890\n",
            "Data columns (total 8 columns):\n",
            " #   Column    Non-Null Count  Dtype  \n",
            "---  ------    --------------  -----  \n",
            " 0   Survived  891 non-null    int64  \n",
            " 1   Pclass    891 non-null    object \n",
            " 2   Sex       891 non-null    object \n",
            " 3   Age       891 non-null    float64\n",
            " 4   SibSp     891 non-null    int64  \n",
            " 5   Parch     891 non-null    int64  \n",
            " 6   Fare      891 non-null    float64\n",
            " 7   Embarked  891 non-null    object \n",
            "dtypes: float64(2), int64(3), object(3)\n",
            "memory usage: 55.8+ KB\n"
          ]
        }
      ],
      "source": [
        "train.info()"
      ]
    },
    {
      "cell_type": "code",
      "execution_count": null,
      "metadata": {
        "colab": {
          "base_uri": "https://localhost:8080/"
        },
        "id": "MQfBg8Rjcn-6",
        "outputId": "d41782a4-72a0-4bfd-c0bb-b95be77d1bcd"
      },
      "outputs": [
        {
          "data": {
            "text/plain": [
              "array(['male', 'female'], dtype=object)"
            ]
          },
          "execution_count": 22,
          "metadata": {},
          "output_type": "execute_result"
        }
      ],
      "source": [
        "# tecnica/estrategia 2 : Agarrar todas las variables cualitativas y hacer un\n",
        "# proceso de hot-encoding\n",
        "\n",
        "# Variable Sex\n",
        "train.Sex.unique()\n",
        "\n",
        "# El hot-encoding crea un numero de columnas igual al numero de posibles \n",
        "# valores de mi variable cualitativa : SexMale y SexFemale \n",
        "# \n",
        "# Supongamos que tenemos un valor : male \n",
        "# SexMale = 1 \n",
        "# SexFemale = 0\n",
        "\n"
      ]
    },
    {
      "cell_type": "code",
      "execution_count": null,
      "metadata": {
        "colab": {
          "base_uri": "https://localhost:8080/"
        },
        "id": "xcmCTrMxdNWQ",
        "outputId": "9eee44e5-14e9-4286-e782-d60e62769d44"
      },
      "outputs": [
        {
          "data": {
            "text/plain": [
              "array(['S', 'C', 'Q'], dtype=object)"
            ]
          },
          "execution_count": 23,
          "metadata": {},
          "output_type": "execute_result"
        }
      ],
      "source": [
        "# Variable Embarked\n",
        "train.Embarked.unique()\n",
        "\n",
        "# Esta columna Embarked tiene 3 posibles valores , el proceso de hot-encoding\n",
        "# va crear 3 columnas : EmbarkedS , EmbarkedC, EmbarkedQ\n",
        "# \n",
        "# COnsidemo una observacion : Embarked = \"S\"\n",
        "# EmbarkedS = 1\n",
        "# EmbarkedC = 0\n",
        "# EmbarkedQ = 0\n",
        "\n",
        "# COnsidemo una observacion : Embarked = \"Q\"\n",
        "# EmbarkedS = 0\n",
        "# EmbarkedC = 0\n",
        "# EmbarkedQ = 1"
      ]
    },
    {
      "cell_type": "code",
      "execution_count": null,
      "metadata": {
        "colab": {
          "base_uri": "https://localhost:8080/"
        },
        "id": "OK4teW_DeLgN",
        "outputId": "54d3a6bc-c77d-43a9-d48b-11ff3c53074e"
      },
      "outputs": [
        {
          "name": "stdout",
          "output_type": "stream",
          "text": [
            "Pclass\n",
            "Sex\n",
            "Embarked\n"
          ]
        }
      ],
      "source": [
        "# Implementemos un hot-encoding sobre toda las columnas de tipo\n",
        "# object (str). Para ello usemos una estructura repetitiva \n",
        "\n",
        "for col in train.dtypes[train.dtypes == \"object\"].index:\n",
        "  print(col)\n",
        "  # Borremos las columnas de tipo object\n",
        "  Col4Dummy = train.pop(col)\n",
        "  # Agregaremos las variables dummies a mi dataframe \n",
        "  train = pd.concat([train, pd.get_dummies(Col4Dummy, prefix = col)], axis = 1)"
      ]
    },
    {
      "cell_type": "code",
      "execution_count": null,
      "metadata": {
        "colab": {
          "base_uri": "https://localhost:8080/",
          "height": 487
        },
        "id": "GJ8DASbNfHWw",
        "outputId": "c4a3a746-9d9e-451b-ec82-22dc6d32e13f"
      },
      "outputs": [
        {
          "data": {
            "text/html": [
              "\n",
              "  <div id=\"df-e68dff13-b8df-45e7-ac79-c54c0e8310ae\">\n",
              "    <div class=\"colab-df-container\">\n",
              "      <div>\n",
              "<style scoped>\n",
              "    .dataframe tbody tr th:only-of-type {\n",
              "        vertical-align: middle;\n",
              "    }\n",
              "\n",
              "    .dataframe tbody tr th {\n",
              "        vertical-align: top;\n",
              "    }\n",
              "\n",
              "    .dataframe thead th {\n",
              "        text-align: right;\n",
              "    }\n",
              "</style>\n",
              "<table border=\"1\" class=\"dataframe\">\n",
              "  <thead>\n",
              "    <tr style=\"text-align: right;\">\n",
              "      <th></th>\n",
              "      <th>Survived</th>\n",
              "      <th>Age</th>\n",
              "      <th>SibSp</th>\n",
              "      <th>Parch</th>\n",
              "      <th>Fare</th>\n",
              "      <th>Pclass_1</th>\n",
              "      <th>Pclass_2</th>\n",
              "      <th>Pclass_3</th>\n",
              "      <th>Sex_female</th>\n",
              "      <th>Sex_male</th>\n",
              "      <th>Embarked_C</th>\n",
              "      <th>Embarked_Q</th>\n",
              "      <th>Embarked_S</th>\n",
              "    </tr>\n",
              "  </thead>\n",
              "  <tbody>\n",
              "    <tr>\n",
              "      <th>0</th>\n",
              "      <td>0</td>\n",
              "      <td>22.000000</td>\n",
              "      <td>1</td>\n",
              "      <td>0</td>\n",
              "      <td>7.2500</td>\n",
              "      <td>0</td>\n",
              "      <td>0</td>\n",
              "      <td>1</td>\n",
              "      <td>0</td>\n",
              "      <td>1</td>\n",
              "      <td>0</td>\n",
              "      <td>0</td>\n",
              "      <td>1</td>\n",
              "    </tr>\n",
              "    <tr>\n",
              "      <th>1</th>\n",
              "      <td>1</td>\n",
              "      <td>38.000000</td>\n",
              "      <td>1</td>\n",
              "      <td>0</td>\n",
              "      <td>71.2833</td>\n",
              "      <td>1</td>\n",
              "      <td>0</td>\n",
              "      <td>0</td>\n",
              "      <td>1</td>\n",
              "      <td>0</td>\n",
              "      <td>1</td>\n",
              "      <td>0</td>\n",
              "      <td>0</td>\n",
              "    </tr>\n",
              "    <tr>\n",
              "      <th>2</th>\n",
              "      <td>1</td>\n",
              "      <td>26.000000</td>\n",
              "      <td>0</td>\n",
              "      <td>0</td>\n",
              "      <td>7.9250</td>\n",
              "      <td>0</td>\n",
              "      <td>0</td>\n",
              "      <td>1</td>\n",
              "      <td>1</td>\n",
              "      <td>0</td>\n",
              "      <td>0</td>\n",
              "      <td>0</td>\n",
              "      <td>1</td>\n",
              "    </tr>\n",
              "    <tr>\n",
              "      <th>3</th>\n",
              "      <td>1</td>\n",
              "      <td>35.000000</td>\n",
              "      <td>1</td>\n",
              "      <td>0</td>\n",
              "      <td>53.1000</td>\n",
              "      <td>1</td>\n",
              "      <td>0</td>\n",
              "      <td>0</td>\n",
              "      <td>1</td>\n",
              "      <td>0</td>\n",
              "      <td>0</td>\n",
              "      <td>0</td>\n",
              "      <td>1</td>\n",
              "    </tr>\n",
              "    <tr>\n",
              "      <th>4</th>\n",
              "      <td>0</td>\n",
              "      <td>35.000000</td>\n",
              "      <td>0</td>\n",
              "      <td>0</td>\n",
              "      <td>8.0500</td>\n",
              "      <td>0</td>\n",
              "      <td>0</td>\n",
              "      <td>1</td>\n",
              "      <td>0</td>\n",
              "      <td>1</td>\n",
              "      <td>0</td>\n",
              "      <td>0</td>\n",
              "      <td>1</td>\n",
              "    </tr>\n",
              "    <tr>\n",
              "      <th>...</th>\n",
              "      <td>...</td>\n",
              "      <td>...</td>\n",
              "      <td>...</td>\n",
              "      <td>...</td>\n",
              "      <td>...</td>\n",
              "      <td>...</td>\n",
              "      <td>...</td>\n",
              "      <td>...</td>\n",
              "      <td>...</td>\n",
              "      <td>...</td>\n",
              "      <td>...</td>\n",
              "      <td>...</td>\n",
              "      <td>...</td>\n",
              "    </tr>\n",
              "    <tr>\n",
              "      <th>886</th>\n",
              "      <td>0</td>\n",
              "      <td>27.000000</td>\n",
              "      <td>0</td>\n",
              "      <td>0</td>\n",
              "      <td>13.0000</td>\n",
              "      <td>0</td>\n",
              "      <td>1</td>\n",
              "      <td>0</td>\n",
              "      <td>0</td>\n",
              "      <td>1</td>\n",
              "      <td>0</td>\n",
              "      <td>0</td>\n",
              "      <td>1</td>\n",
              "    </tr>\n",
              "    <tr>\n",
              "      <th>887</th>\n",
              "      <td>1</td>\n",
              "      <td>19.000000</td>\n",
              "      <td>0</td>\n",
              "      <td>0</td>\n",
              "      <td>30.0000</td>\n",
              "      <td>1</td>\n",
              "      <td>0</td>\n",
              "      <td>0</td>\n",
              "      <td>1</td>\n",
              "      <td>0</td>\n",
              "      <td>0</td>\n",
              "      <td>0</td>\n",
              "      <td>1</td>\n",
              "    </tr>\n",
              "    <tr>\n",
              "      <th>888</th>\n",
              "      <td>0</td>\n",
              "      <td>29.699118</td>\n",
              "      <td>1</td>\n",
              "      <td>2</td>\n",
              "      <td>23.4500</td>\n",
              "      <td>0</td>\n",
              "      <td>0</td>\n",
              "      <td>1</td>\n",
              "      <td>1</td>\n",
              "      <td>0</td>\n",
              "      <td>0</td>\n",
              "      <td>0</td>\n",
              "      <td>1</td>\n",
              "    </tr>\n",
              "    <tr>\n",
              "      <th>889</th>\n",
              "      <td>1</td>\n",
              "      <td>26.000000</td>\n",
              "      <td>0</td>\n",
              "      <td>0</td>\n",
              "      <td>30.0000</td>\n",
              "      <td>1</td>\n",
              "      <td>0</td>\n",
              "      <td>0</td>\n",
              "      <td>0</td>\n",
              "      <td>1</td>\n",
              "      <td>1</td>\n",
              "      <td>0</td>\n",
              "      <td>0</td>\n",
              "    </tr>\n",
              "    <tr>\n",
              "      <th>890</th>\n",
              "      <td>0</td>\n",
              "      <td>32.000000</td>\n",
              "      <td>0</td>\n",
              "      <td>0</td>\n",
              "      <td>7.7500</td>\n",
              "      <td>0</td>\n",
              "      <td>0</td>\n",
              "      <td>1</td>\n",
              "      <td>0</td>\n",
              "      <td>1</td>\n",
              "      <td>0</td>\n",
              "      <td>1</td>\n",
              "      <td>0</td>\n",
              "    </tr>\n",
              "  </tbody>\n",
              "</table>\n",
              "<p>891 rows × 13 columns</p>\n",
              "</div>\n",
              "      <button class=\"colab-df-convert\" onclick=\"convertToInteractive('df-e68dff13-b8df-45e7-ac79-c54c0e8310ae')\"\n",
              "              title=\"Convert this dataframe to an interactive table.\"\n",
              "              style=\"display:none;\">\n",
              "        \n",
              "  <svg xmlns=\"http://www.w3.org/2000/svg\" height=\"24px\"viewBox=\"0 0 24 24\"\n",
              "       width=\"24px\">\n",
              "    <path d=\"M0 0h24v24H0V0z\" fill=\"none\"/>\n",
              "    <path d=\"M18.56 5.44l.94 2.06.94-2.06 2.06-.94-2.06-.94-.94-2.06-.94 2.06-2.06.94zm-11 1L8.5 8.5l.94-2.06 2.06-.94-2.06-.94L8.5 2.5l-.94 2.06-2.06.94zm10 10l.94 2.06.94-2.06 2.06-.94-2.06-.94-.94-2.06-.94 2.06-2.06.94z\"/><path d=\"M17.41 7.96l-1.37-1.37c-.4-.4-.92-.59-1.43-.59-.52 0-1.04.2-1.43.59L10.3 9.45l-7.72 7.72c-.78.78-.78 2.05 0 2.83L4 21.41c.39.39.9.59 1.41.59.51 0 1.02-.2 1.41-.59l7.78-7.78 2.81-2.81c.8-.78.8-2.07 0-2.86zM5.41 20L4 18.59l7.72-7.72 1.47 1.35L5.41 20z\"/>\n",
              "  </svg>\n",
              "      </button>\n",
              "      \n",
              "  <style>\n",
              "    .colab-df-container {\n",
              "      display:flex;\n",
              "      flex-wrap:wrap;\n",
              "      gap: 12px;\n",
              "    }\n",
              "\n",
              "    .colab-df-convert {\n",
              "      background-color: #E8F0FE;\n",
              "      border: none;\n",
              "      border-radius: 50%;\n",
              "      cursor: pointer;\n",
              "      display: none;\n",
              "      fill: #1967D2;\n",
              "      height: 32px;\n",
              "      padding: 0 0 0 0;\n",
              "      width: 32px;\n",
              "    }\n",
              "\n",
              "    .colab-df-convert:hover {\n",
              "      background-color: #E2EBFA;\n",
              "      box-shadow: 0px 1px 2px rgba(60, 64, 67, 0.3), 0px 1px 3px 1px rgba(60, 64, 67, 0.15);\n",
              "      fill: #174EA6;\n",
              "    }\n",
              "\n",
              "    [theme=dark] .colab-df-convert {\n",
              "      background-color: #3B4455;\n",
              "      fill: #D2E3FC;\n",
              "    }\n",
              "\n",
              "    [theme=dark] .colab-df-convert:hover {\n",
              "      background-color: #434B5C;\n",
              "      box-shadow: 0px 1px 3px 1px rgba(0, 0, 0, 0.15);\n",
              "      filter: drop-shadow(0px 1px 2px rgba(0, 0, 0, 0.3));\n",
              "      fill: #FFFFFF;\n",
              "    }\n",
              "  </style>\n",
              "\n",
              "      <script>\n",
              "        const buttonEl =\n",
              "          document.querySelector('#df-e68dff13-b8df-45e7-ac79-c54c0e8310ae button.colab-df-convert');\n",
              "        buttonEl.style.display =\n",
              "          google.colab.kernel.accessAllowed ? 'block' : 'none';\n",
              "\n",
              "        async function convertToInteractive(key) {\n",
              "          const element = document.querySelector('#df-e68dff13-b8df-45e7-ac79-c54c0e8310ae');\n",
              "          const dataTable =\n",
              "            await google.colab.kernel.invokeFunction('convertToInteractive',\n",
              "                                                     [key], {});\n",
              "          if (!dataTable) return;\n",
              "\n",
              "          const docLinkHtml = 'Like what you see? Visit the ' +\n",
              "            '<a target=\"_blank\" href=https://colab.research.google.com/notebooks/data_table.ipynb>data table notebook</a>'\n",
              "            + ' to learn more about interactive tables.';\n",
              "          element.innerHTML = '';\n",
              "          dataTable['output_type'] = 'display_data';\n",
              "          await google.colab.output.renderOutput(dataTable, element);\n",
              "          const docLink = document.createElement('div');\n",
              "          docLink.innerHTML = docLinkHtml;\n",
              "          element.appendChild(docLink);\n",
              "        }\n",
              "      </script>\n",
              "    </div>\n",
              "  </div>\n",
              "  "
            ],
            "text/plain": [
              "     Survived        Age  SibSp  Parch     Fare  Pclass_1  Pclass_2  Pclass_3  \\\n",
              "0           0  22.000000      1      0   7.2500         0         0         1   \n",
              "1           1  38.000000      1      0  71.2833         1         0         0   \n",
              "2           1  26.000000      0      0   7.9250         0         0         1   \n",
              "3           1  35.000000      1      0  53.1000         1         0         0   \n",
              "4           0  35.000000      0      0   8.0500         0         0         1   \n",
              "..        ...        ...    ...    ...      ...       ...       ...       ...   \n",
              "886         0  27.000000      0      0  13.0000         0         1         0   \n",
              "887         1  19.000000      0      0  30.0000         1         0         0   \n",
              "888         0  29.699118      1      2  23.4500         0         0         1   \n",
              "889         1  26.000000      0      0  30.0000         1         0         0   \n",
              "890         0  32.000000      0      0   7.7500         0         0         1   \n",
              "\n",
              "     Sex_female  Sex_male  Embarked_C  Embarked_Q  Embarked_S  \n",
              "0             0         1           0           0           1  \n",
              "1             1         0           1           0           0  \n",
              "2             1         0           0           0           1  \n",
              "3             1         0           0           0           1  \n",
              "4             0         1           0           0           1  \n",
              "..          ...       ...         ...         ...         ...  \n",
              "886           0         1           0           0           1  \n",
              "887           1         0           0           0           1  \n",
              "888           1         0           0           0           1  \n",
              "889           0         1           1           0           0  \n",
              "890           0         1           0           1           0  \n",
              "\n",
              "[891 rows x 13 columns]"
            ]
          },
          "execution_count": 27,
          "metadata": {},
          "output_type": "execute_result"
        }
      ],
      "source": [
        "# Visualicemos nuestro dataframe \n",
        "train"
      ]
    },
    {
      "cell_type": "code",
      "execution_count": null,
      "metadata": {
        "id": "Vf9j6Ykdfwrd"
      },
      "outputs": [],
      "source": [
        "# Guardemos el dataset que ya se encuentra limpio y correctamente codificado \n",
        "# en disco duro \n",
        "train.to_csv(\"Titanic4Model.csv\")"
      ]
    },
    {
      "cell_type": "code",
      "execution_count": null,
      "metadata": {
        "id": "cvHhSSumfwki"
      },
      "outputs": [],
      "source": [
        "# Empecemos con el proceso de creacion de un modelo de tipo\n",
        "# arbol de decision\n",
        "\n",
        "# Creacion de las variables independientes y de la variable dependiente\n",
        "labels = train.pop(\"Survived\")\n",
        "features = train"
      ]
    },
    {
      "cell_type": "code",
      "execution_count": null,
      "metadata": {
        "id": "gmRBtOlwgfd_"
      },
      "outputs": [],
      "source": [
        "# particionado de los datos \n",
        "X_entrenamiento, X_prueba, y_entrenamiento, y_prueba = train_test_split(features,\n",
        "                                                                        labels,\n",
        "                                                                        test_size = 0.25)"
      ]
    },
    {
      "cell_type": "code",
      "execution_count": null,
      "metadata": {
        "colab": {
          "base_uri": "https://localhost:8080/"
        },
        "id": "-eI9slAXg1yx",
        "outputId": "3fbd75ae-c6b7-4a0e-9fee-a85700784b01"
      },
      "outputs": [
        {
          "data": {
            "text/plain": [
              "0.7757847533632287"
            ]
          },
          "execution_count": 35,
          "metadata": {},
          "output_type": "execute_result"
        }
      ],
      "source": [
        "# 3 pasos fundamentales : Creacion del modelo \n",
        "\n",
        "# INstanciamos la clase que define al modelo \n",
        "ModelDt1 = DecisionTreeClassifier()\n",
        "\n",
        "# Ajustamos el modelo al conjunto de datos de entrenamiento \n",
        "ModelDt1.fit(X_entrenamiento, y_entrenamiento)\n",
        "\n",
        "# Calculamoslos scores para los datos de prueba \n",
        "ModelDt1.score(X_prueba, y_prueba)"
      ]
    },
    {
      "cell_type": "code",
      "execution_count": null,
      "metadata": {
        "colab": {
          "base_uri": "https://localhost:8080/"
        },
        "id": "ZENlmgKcheAO",
        "outputId": "4ed52ad6-8981-4f77-f3ea-302666927ed4"
      },
      "outputs": [
        {
          "data": {
            "text/plain": [
              "array([[113,  25],\n",
              "       [ 25,  60]])"
            ]
          },
          "execution_count": 37,
          "metadata": {},
          "output_type": "execute_result"
        }
      ],
      "source": [
        "# Evaluemos el modelo \n",
        "# Construccion pronosticos usando el modelo \n",
        "yModelo = ModelDt1.predict(X_prueba)\n",
        "\n",
        "# matriz de confusion \n",
        "metrics.confusion_matrix(y_prueba, yModelo)"
      ]
    },
    {
      "cell_type": "code",
      "execution_count": null,
      "metadata": {
        "colab": {
          "base_uri": "https://localhost:8080/"
        },
        "id": "pKSVpflXidJK",
        "outputId": "ad0e70df-d777-487c-a0e1-134aa84d6f4d"
      },
      "outputs": [
        {
          "data": {
            "text/plain": [
              "0.7623614663256607"
            ]
          },
          "execution_count": 41,
          "metadata": {},
          "output_type": "execute_result"
        }
      ],
      "source": [
        "# Calculemos el Area bajo la curva (Area under the curve : AUC)\n",
        "FP, TP, Thrs = metrics.roc_curve(y_prueba, yModelo)\n",
        "\n",
        "# Calculo del AUC \n",
        "metrics.auc(FP, TP)"
      ]
    },
    {
      "cell_type": "code",
      "execution_count": null,
      "metadata": {
        "colab": {
          "base_uri": "https://localhost:8080/"
        },
        "id": "p9rxLIdVjcBN",
        "outputId": "95a4eeb7-0ecd-4786-d9e6-f759325b9178"
      },
      "outputs": [
        {
          "data": {
            "text/plain": [
              "['__abstractmethods__',\n",
              " '__class__',\n",
              " '__delattr__',\n",
              " '__dict__',\n",
              " '__dir__',\n",
              " '__doc__',\n",
              " '__eq__',\n",
              " '__format__',\n",
              " '__ge__',\n",
              " '__getattribute__',\n",
              " '__getstate__',\n",
              " '__gt__',\n",
              " '__hash__',\n",
              " '__init__',\n",
              " '__init_subclass__',\n",
              " '__le__',\n",
              " '__lt__',\n",
              " '__module__',\n",
              " '__ne__',\n",
              " '__new__',\n",
              " '__reduce__',\n",
              " '__reduce_ex__',\n",
              " '__repr__',\n",
              " '__setattr__',\n",
              " '__setstate__',\n",
              " '__sizeof__',\n",
              " '__str__',\n",
              " '__subclasshook__',\n",
              " '__weakref__',\n",
              " '_abc_impl',\n",
              " '_check_feature_names',\n",
              " '_check_n_features',\n",
              " '_estimator_type',\n",
              " '_get_param_names',\n",
              " '_get_tags',\n",
              " '_more_tags',\n",
              " '_prune_tree',\n",
              " '_repr_html_',\n",
              " '_repr_html_inner',\n",
              " '_repr_mimebundle_',\n",
              " '_validate_X_predict',\n",
              " '_validate_data',\n",
              " 'apply',\n",
              " 'ccp_alpha',\n",
              " 'class_weight',\n",
              " 'classes_',\n",
              " 'cost_complexity_pruning_path',\n",
              " 'criterion',\n",
              " 'decision_path',\n",
              " 'feature_importances_',\n",
              " 'feature_names_in_',\n",
              " 'fit',\n",
              " 'get_depth',\n",
              " 'get_n_leaves',\n",
              " 'get_params',\n",
              " 'max_depth',\n",
              " 'max_features',\n",
              " 'max_features_',\n",
              " 'max_leaf_nodes',\n",
              " 'min_impurity_decrease',\n",
              " 'min_samples_leaf',\n",
              " 'min_samples_split',\n",
              " 'min_weight_fraction_leaf',\n",
              " 'n_classes_',\n",
              " 'n_features_',\n",
              " 'n_features_in_',\n",
              " 'n_outputs_',\n",
              " 'predict',\n",
              " 'predict_log_proba',\n",
              " 'predict_proba',\n",
              " 'random_state',\n",
              " 'score',\n",
              " 'set_params',\n",
              " 'splitter',\n",
              " 'tree_']"
            ]
          },
          "execution_count": 42,
          "metadata": {},
          "output_type": "execute_result"
        }
      ],
      "source": [
        "# Busquemos mejor nuestro primer arbol : ModelDt1\n",
        "# Consideremos al argumento max_depth\n",
        "\n",
        "# Lista de metodos que posee el objeto ModelDt1\n",
        "dir(ModelDt1)"
      ]
    },
    {
      "cell_type": "code",
      "execution_count": null,
      "metadata": {
        "colab": {
          "base_uri": "https://localhost:8080/"
        },
        "id": "pHrdWd_7jxW0",
        "outputId": "b5e28b5f-9044-45ab-f7f9-6fac9f2f7be8"
      },
      "outputs": [
        {
          "name": "stdout",
          "output_type": "stream",
          "text": [
            "Help on method get_params in module sklearn.base:\n",
            "\n",
            "get_params(deep=True) method of sklearn.tree._classes.DecisionTreeClassifier instance\n",
            "    Get parameters for this estimator.\n",
            "    \n",
            "    Parameters\n",
            "    ----------\n",
            "    deep : bool, default=True\n",
            "        If True, will return the parameters for this estimator and\n",
            "        contained subobjects that are estimators.\n",
            "    \n",
            "    Returns\n",
            "    -------\n",
            "    params : dict\n",
            "        Parameter names mapped to their values.\n",
            "\n"
          ]
        }
      ],
      "source": [
        "# Veamos que informacion obtenemos del metodo get_params \n",
        "help(ModelDt1.get_params)"
      ]
    },
    {
      "cell_type": "code",
      "execution_count": null,
      "metadata": {
        "colab": {
          "base_uri": "https://localhost:8080/"
        },
        "id": "F8whIpxrj6UN",
        "outputId": "4de13a4c-ce43-4d0c-832a-9e073c7d8b0c"
      },
      "outputs": [
        {
          "data": {
            "text/plain": [
              "{'ccp_alpha': 0.0,\n",
              " 'class_weight': None,\n",
              " 'criterion': 'gini',\n",
              " 'max_depth': None,\n",
              " 'max_features': None,\n",
              " 'max_leaf_nodes': None,\n",
              " 'min_impurity_decrease': 0.0,\n",
              " 'min_samples_leaf': 1,\n",
              " 'min_samples_split': 2,\n",
              " 'min_weight_fraction_leaf': 0.0,\n",
              " 'random_state': None,\n",
              " 'splitter': 'best'}"
            ]
          },
          "execution_count": 44,
          "metadata": {},
          "output_type": "execute_result"
        }
      ],
      "source": [
        "ModelDt1.get_params()"
      ]
    },
    {
      "cell_type": "code",
      "execution_count": null,
      "metadata": {
        "colab": {
          "base_uri": "https://localhost:8080/"
        },
        "id": "eiHmtfMhkHt2",
        "outputId": "f34fea0c-0d34-4141-e186-f632c38fe297"
      },
      "outputs": [
        {
          "name": "stdout",
          "output_type": "stream",
          "text": [
            "Help on method get_depth in module sklearn.tree._classes:\n",
            "\n",
            "get_depth() method of sklearn.tree._classes.DecisionTreeClassifier instance\n",
            "    Return the depth of the decision tree.\n",
            "    \n",
            "    The depth of a tree is the maximum distance between the root\n",
            "    and any leaf.\n",
            "    \n",
            "    Returns\n",
            "    -------\n",
            "    self.tree_.max_depth : int\n",
            "        The maximum depth of the tree.\n",
            "\n"
          ]
        }
      ],
      "source": [
        "# Veamos la informacion que produce el metodo get_depth\n",
        "help(ModelDt1.get_depth)"
      ]
    },
    {
      "cell_type": "code",
      "execution_count": null,
      "metadata": {
        "colab": {
          "base_uri": "https://localhost:8080/"
        },
        "id": "ta19mt5skOMK",
        "outputId": "9e69577b-1c7b-4df4-ee5b-1630a77996eb"
      },
      "outputs": [
        {
          "data": {
            "text/plain": [
              "19"
            ]
          },
          "execution_count": 46,
          "metadata": {},
          "output_type": "execute_result"
        }
      ],
      "source": [
        "ModelDt1.get_depth()"
      ]
    },
    {
      "cell_type": "code",
      "execution_count": null,
      "metadata": {
        "colab": {
          "base_uri": "https://localhost:8080/"
        },
        "id": "oA3PVBCqkZoU",
        "outputId": "9a65da20-06d4-4e5d-e2d8-9b5e11f0e0e5"
      },
      "outputs": [
        {
          "name": "stdout",
          "output_type": "stream",
          "text": [
            "|--- feature_8 <= 0.50\n",
            "|   |--- feature_6 <= 0.50\n",
            "|   |   |--- feature_0 <= 2.50\n",
            "|   |   |   |--- class: 0\n",
            "|   |   |--- feature_0 >  2.50\n",
            "|   |   |   |--- feature_3 <= 28.86\n",
            "|   |   |   |   |--- feature_3 <= 28.23\n",
            "|   |   |   |   |   |--- feature_0 <= 55.50\n",
            "|   |   |   |   |   |   |--- feature_0 <= 27.50\n",
            "|   |   |   |   |   |   |   |--- feature_0 <= 25.50\n",
            "|   |   |   |   |   |   |   |   |--- feature_3 <= 13.40\n",
            "|   |   |   |   |   |   |   |   |   |--- feature_0 <= 22.50\n",
            "|   |   |   |   |   |   |   |   |   |   |--- class: 1\n",
            "|   |   |   |   |   |   |   |   |   |--- feature_0 >  22.50\n",
            "|   |   |   |   |   |   |   |   |   |   |--- class: 0\n",
            "|   |   |   |   |   |   |   |   |--- feature_3 >  13.40\n",
            "|   |   |   |   |   |   |   |   |   |--- class: 1\n",
            "|   |   |   |   |   |   |   |--- feature_0 >  25.50\n",
            "|   |   |   |   |   |   |   |   |--- feature_9 <= 0.50\n",
            "|   |   |   |   |   |   |   |   |   |--- class: 0\n",
            "|   |   |   |   |   |   |   |   |--- feature_9 >  0.50\n",
            "|   |   |   |   |   |   |   |   |   |--- class: 1\n",
            "|   |   |   |   |   |   |--- feature_0 >  27.50\n",
            "|   |   |   |   |   |   |   |--- feature_3 <= 13.25\n",
            "|   |   |   |   |   |   |   |   |--- feature_0 <= 37.00\n",
            "|   |   |   |   |   |   |   |   |   |--- class: 1\n",
            "|   |   |   |   |   |   |   |   |--- feature_0 >  37.00\n",
            "|   |   |   |   |   |   |   |   |   |--- feature_0 <= 39.00\n",
            "|   |   |   |   |   |   |   |   |   |   |--- class: 0\n",
            "|   |   |   |   |   |   |   |   |   |--- feature_0 >  39.00\n",
            "|   |   |   |   |   |   |   |   |   |   |--- class: 1\n",
            "|   |   |   |   |   |   |   |--- feature_3 >  13.25\n",
            "|   |   |   |   |   |   |   |   |--- class: 1\n",
            "|   |   |   |   |   |--- feature_0 >  55.50\n",
            "|   |   |   |   |   |   |--- feature_0 <= 57.50\n",
            "|   |   |   |   |   |   |   |--- class: 0\n",
            "|   |   |   |   |   |   |--- feature_0 >  57.50\n",
            "|   |   |   |   |   |   |   |--- class: 1\n",
            "|   |   |   |   |--- feature_3 >  28.23\n",
            "|   |   |   |   |   |--- class: 0\n",
            "|   |   |   |--- feature_3 >  28.86\n",
            "|   |   |   |   |--- class: 1\n",
            "|   |--- feature_6 >  0.50\n",
            "|   |   |--- feature_3 <= 20.80\n",
            "|   |   |   |--- feature_0 <= 7.00\n",
            "|   |   |   |   |--- class: 1\n",
            "|   |   |   |--- feature_0 >  7.00\n",
            "|   |   |   |   |--- feature_3 <= 7.89\n",
            "|   |   |   |   |   |--- feature_0 <= 30.10\n",
            "|   |   |   |   |   |   |--- feature_3 <= 7.64\n",
            "|   |   |   |   |   |   |   |--- feature_11 <= 0.50\n",
            "|   |   |   |   |   |   |   |   |--- class: 0\n",
            "|   |   |   |   |   |   |   |--- feature_11 >  0.50\n",
            "|   |   |   |   |   |   |   |   |--- class: 1\n",
            "|   |   |   |   |   |   |--- feature_3 >  7.64\n",
            "|   |   |   |   |   |   |   |--- feature_0 <= 15.00\n",
            "|   |   |   |   |   |   |   |   |--- class: 0\n",
            "|   |   |   |   |   |   |   |--- feature_0 >  15.00\n",
            "|   |   |   |   |   |   |   |   |--- feature_2 <= 1.00\n",
            "|   |   |   |   |   |   |   |   |   |--- feature_0 <= 25.50\n",
            "|   |   |   |   |   |   |   |   |   |   |--- feature_0 <= 23.50\n",
            "|   |   |   |   |   |   |   |   |   |   |   |--- truncated branch of depth 4\n",
            "|   |   |   |   |   |   |   |   |   |   |--- feature_0 >  23.50\n",
            "|   |   |   |   |   |   |   |   |   |   |   |--- class: 0\n",
            "|   |   |   |   |   |   |   |   |   |--- feature_0 >  25.50\n",
            "|   |   |   |   |   |   |   |   |   |   |--- class: 1\n",
            "|   |   |   |   |   |   |   |   |--- feature_2 >  1.00\n",
            "|   |   |   |   |   |   |   |   |   |--- class: 0\n",
            "|   |   |   |   |   |--- feature_0 >  30.10\n",
            "|   |   |   |   |   |   |--- class: 0\n",
            "|   |   |   |   |--- feature_3 >  7.89\n",
            "|   |   |   |   |   |--- feature_3 <= 15.37\n",
            "|   |   |   |   |   |   |--- feature_2 <= 1.50\n",
            "|   |   |   |   |   |   |   |--- feature_0 <= 29.85\n",
            "|   |   |   |   |   |   |   |   |--- feature_0 <= 19.00\n",
            "|   |   |   |   |   |   |   |   |   |--- feature_3 <= 12.85\n",
            "|   |   |   |   |   |   |   |   |   |   |--- class: 1\n",
            "|   |   |   |   |   |   |   |   |   |--- feature_3 >  12.85\n",
            "|   |   |   |   |   |   |   |   |   |   |--- feature_1 <= 0.50\n",
            "|   |   |   |   |   |   |   |   |   |   |   |--- class: 0\n",
            "|   |   |   |   |   |   |   |   |   |   |--- feature_1 >  0.50\n",
            "|   |   |   |   |   |   |   |   |   |   |   |--- truncated branch of depth 2\n",
            "|   |   |   |   |   |   |   |   |--- feature_0 >  19.00\n",
            "|   |   |   |   |   |   |   |   |   |--- feature_3 <= 7.99\n",
            "|   |   |   |   |   |   |   |   |   |   |--- feature_0 <= 25.50\n",
            "|   |   |   |   |   |   |   |   |   |   |   |--- class: 0\n",
            "|   |   |   |   |   |   |   |   |   |   |--- feature_0 >  25.50\n",
            "|   |   |   |   |   |   |   |   |   |   |   |--- truncated branch of depth 2\n",
            "|   |   |   |   |   |   |   |   |   |--- feature_3 >  7.99\n",
            "|   |   |   |   |   |   |   |   |   |   |--- class: 0\n",
            "|   |   |   |   |   |   |   |--- feature_0 >  29.85\n",
            "|   |   |   |   |   |   |   |   |--- feature_3 <= 13.46\n",
            "|   |   |   |   |   |   |   |   |   |--- class: 1\n",
            "|   |   |   |   |   |   |   |   |--- feature_3 >  13.46\n",
            "|   |   |   |   |   |   |   |   |   |--- class: 0\n",
            "|   |   |   |   |   |   |--- feature_2 >  1.50\n",
            "|   |   |   |   |   |   |   |--- class: 1\n",
            "|   |   |   |   |   |--- feature_3 >  15.37\n",
            "|   |   |   |   |   |   |--- feature_3 <= 17.60\n",
            "|   |   |   |   |   |   |   |--- class: 1\n",
            "|   |   |   |   |   |   |--- feature_3 >  17.60\n",
            "|   |   |   |   |   |   |   |--- feature_3 <= 18.63\n",
            "|   |   |   |   |   |   |   |   |--- class: 0\n",
            "|   |   |   |   |   |   |   |--- feature_3 >  18.63\n",
            "|   |   |   |   |   |   |   |   |--- feature_0 <= 36.00\n",
            "|   |   |   |   |   |   |   |   |   |--- class: 1\n",
            "|   |   |   |   |   |   |   |   |--- feature_0 >  36.00\n",
            "|   |   |   |   |   |   |   |   |   |--- class: 0\n",
            "|   |   |--- feature_3 >  20.80\n",
            "|   |   |   |--- feature_2 <= 0.50\n",
            "|   |   |   |   |--- class: 1\n",
            "|   |   |   |--- feature_2 >  0.50\n",
            "|   |   |   |   |--- feature_0 <= 5.50\n",
            "|   |   |   |   |   |--- feature_0 <= 3.50\n",
            "|   |   |   |   |   |   |--- class: 0\n",
            "|   |   |   |   |   |--- feature_0 >  3.50\n",
            "|   |   |   |   |   |   |--- class: 1\n",
            "|   |   |   |   |--- feature_0 >  5.50\n",
            "|   |   |   |   |   |--- feature_2 <= 4.50\n",
            "|   |   |   |   |   |   |--- class: 0\n",
            "|   |   |   |   |   |--- feature_2 >  4.50\n",
            "|   |   |   |   |   |   |--- feature_1 <= 0.50\n",
            "|   |   |   |   |   |   |   |--- class: 0\n",
            "|   |   |   |   |   |   |--- feature_1 >  0.50\n",
            "|   |   |   |   |   |   |   |--- class: 1\n",
            "|--- feature_8 >  0.50\n",
            "|   |--- feature_4 <= 0.50\n",
            "|   |   |--- feature_0 <= 9.50\n",
            "|   |   |   |--- feature_1 <= 2.50\n",
            "|   |   |   |   |--- class: 1\n",
            "|   |   |   |--- feature_1 >  2.50\n",
            "|   |   |   |   |--- feature_0 <= 3.50\n",
            "|   |   |   |   |   |--- feature_0 <= 2.50\n",
            "|   |   |   |   |   |   |--- class: 0\n",
            "|   |   |   |   |   |--- feature_0 >  2.50\n",
            "|   |   |   |   |   |   |--- class: 1\n",
            "|   |   |   |   |--- feature_0 >  3.50\n",
            "|   |   |   |   |   |--- class: 0\n",
            "|   |   |--- feature_0 >  9.50\n",
            "|   |   |   |--- feature_3 <= 51.70\n",
            "|   |   |   |   |--- feature_9 <= 0.50\n",
            "|   |   |   |   |   |--- feature_3 <= 13.25\n",
            "|   |   |   |   |   |   |--- feature_0 <= 40.50\n",
            "|   |   |   |   |   |   |   |--- feature_0 <= 29.85\n",
            "|   |   |   |   |   |   |   |   |--- feature_3 <= 7.80\n",
            "|   |   |   |   |   |   |   |   |   |--- feature_3 <= 7.79\n",
            "|   |   |   |   |   |   |   |   |   |   |--- feature_0 <= 23.00\n",
            "|   |   |   |   |   |   |   |   |   |   |   |--- class: 0\n",
            "|   |   |   |   |   |   |   |   |   |   |--- feature_0 >  23.00\n",
            "|   |   |   |   |   |   |   |   |   |   |   |--- truncated branch of depth 6\n",
            "|   |   |   |   |   |   |   |   |   |--- feature_3 >  7.79\n",
            "|   |   |   |   |   |   |   |   |   |   |--- feature_0 <= 19.50\n",
            "|   |   |   |   |   |   |   |   |   |   |   |--- class: 0\n",
            "|   |   |   |   |   |   |   |   |   |   |--- feature_0 >  19.50\n",
            "|   |   |   |   |   |   |   |   |   |   |   |--- truncated branch of depth 4\n",
            "|   |   |   |   |   |   |   |   |--- feature_3 >  7.80\n",
            "|   |   |   |   |   |   |   |   |   |--- feature_3 <= 7.91\n",
            "|   |   |   |   |   |   |   |   |   |   |--- class: 0\n",
            "|   |   |   |   |   |   |   |   |   |--- feature_3 >  7.91\n",
            "|   |   |   |   |   |   |   |   |   |   |--- feature_3 <= 9.67\n",
            "|   |   |   |   |   |   |   |   |   |   |   |--- truncated branch of depth 9\n",
            "|   |   |   |   |   |   |   |   |   |   |--- feature_3 >  9.67\n",
            "|   |   |   |   |   |   |   |   |   |   |   |--- class: 0\n",
            "|   |   |   |   |   |   |   |--- feature_0 >  29.85\n",
            "|   |   |   |   |   |   |   |   |--- feature_0 <= 32.50\n",
            "|   |   |   |   |   |   |   |   |   |--- feature_3 <= 7.81\n",
            "|   |   |   |   |   |   |   |   |   |   |--- class: 0\n",
            "|   |   |   |   |   |   |   |   |   |--- feature_3 >  7.81\n",
            "|   |   |   |   |   |   |   |   |   |   |--- feature_0 <= 30.50\n",
            "|   |   |   |   |   |   |   |   |   |   |   |--- truncated branch of depth 3\n",
            "|   |   |   |   |   |   |   |   |   |   |--- feature_0 >  30.50\n",
            "|   |   |   |   |   |   |   |   |   |   |   |--- truncated branch of depth 5\n",
            "|   |   |   |   |   |   |   |   |--- feature_0 >  32.50\n",
            "|   |   |   |   |   |   |   |   |   |--- feature_3 <= 12.64\n",
            "|   |   |   |   |   |   |   |   |   |   |--- feature_0 <= 38.50\n",
            "|   |   |   |   |   |   |   |   |   |   |   |--- class: 0\n",
            "|   |   |   |   |   |   |   |   |   |   |--- feature_0 >  38.50\n",
            "|   |   |   |   |   |   |   |   |   |   |   |--- class: 0\n",
            "|   |   |   |   |   |   |   |   |   |--- feature_3 >  12.64\n",
            "|   |   |   |   |   |   |   |   |   |   |--- feature_0 <= 36.50\n",
            "|   |   |   |   |   |   |   |   |   |   |   |--- class: 0\n",
            "|   |   |   |   |   |   |   |   |   |   |--- feature_0 >  36.50\n",
            "|   |   |   |   |   |   |   |   |   |   |   |--- class: 0\n",
            "|   |   |   |   |   |   |--- feature_0 >  40.50\n",
            "|   |   |   |   |   |   |   |--- class: 0\n",
            "|   |   |   |   |   |--- feature_3 >  13.25\n",
            "|   |   |   |   |   |   |--- class: 0\n",
            "|   |   |   |   |--- feature_9 >  0.50\n",
            "|   |   |   |   |   |--- feature_3 <= 15.15\n",
            "|   |   |   |   |   |   |--- feature_0 <= 29.35\n",
            "|   |   |   |   |   |   |   |--- feature_0 <= 28.00\n",
            "|   |   |   |   |   |   |   |   |--- feature_0 <= 23.50\n",
            "|   |   |   |   |   |   |   |   |   |--- feature_2 <= 0.50\n",
            "|   |   |   |   |   |   |   |   |   |   |--- feature_3 <= 5.62\n",
            "|   |   |   |   |   |   |   |   |   |   |   |--- class: 0\n",
            "|   |   |   |   |   |   |   |   |   |   |--- feature_3 >  5.62\n",
            "|   |   |   |   |   |   |   |   |   |   |   |--- truncated branch of depth 3\n",
            "|   |   |   |   |   |   |   |   |   |--- feature_2 >  0.50\n",
            "|   |   |   |   |   |   |   |   |   |   |--- class: 0\n",
            "|   |   |   |   |   |   |   |   |--- feature_0 >  23.50\n",
            "|   |   |   |   |   |   |   |   |   |--- class: 0\n",
            "|   |   |   |   |   |   |   |--- feature_0 >  28.00\n",
            "|   |   |   |   |   |   |   |   |--- class: 1\n",
            "|   |   |   |   |   |   |--- feature_0 >  29.35\n",
            "|   |   |   |   |   |   |   |--- class: 0\n",
            "|   |   |   |   |   |--- feature_3 >  15.15\n",
            "|   |   |   |   |   |   |--- feature_5 <= 0.50\n",
            "|   |   |   |   |   |   |   |--- class: 1\n",
            "|   |   |   |   |   |   |--- feature_5 >  0.50\n",
            "|   |   |   |   |   |   |   |--- class: 0\n",
            "|   |   |   |--- feature_3 >  51.70\n",
            "|   |   |   |   |--- feature_3 <= 63.02\n",
            "|   |   |   |   |   |--- class: 1\n",
            "|   |   |   |   |--- feature_3 >  63.02\n",
            "|   |   |   |   |   |--- class: 0\n",
            "|   |--- feature_4 >  0.50\n",
            "|   |   |--- feature_0 <= 17.50\n",
            "|   |   |   |--- class: 1\n",
            "|   |   |--- feature_0 >  17.50\n",
            "|   |   |   |--- feature_0 <= 24.50\n",
            "|   |   |   |   |--- class: 0\n",
            "|   |   |   |--- feature_0 >  24.50\n",
            "|   |   |   |   |--- feature_0 <= 27.50\n",
            "|   |   |   |   |   |--- feature_2 <= 1.00\n",
            "|   |   |   |   |   |   |--- class: 1\n",
            "|   |   |   |   |   |--- feature_2 >  1.00\n",
            "|   |   |   |   |   |   |--- class: 0\n",
            "|   |   |   |   |--- feature_0 >  27.50\n",
            "|   |   |   |   |   |--- feature_3 <= 26.11\n",
            "|   |   |   |   |   |   |--- class: 0\n",
            "|   |   |   |   |   |--- feature_3 >  26.11\n",
            "|   |   |   |   |   |   |--- feature_3 <= 31.66\n",
            "|   |   |   |   |   |   |   |--- feature_0 <= 53.50\n",
            "|   |   |   |   |   |   |   |   |--- feature_0 <= 31.00\n",
            "|   |   |   |   |   |   |   |   |   |--- feature_11 <= 0.50\n",
            "|   |   |   |   |   |   |   |   |   |   |--- feature_3 <= 28.73\n",
            "|   |   |   |   |   |   |   |   |   |   |   |--- class: 0\n",
            "|   |   |   |   |   |   |   |   |   |   |--- feature_3 >  28.73\n",
            "|   |   |   |   |   |   |   |   |   |   |   |--- truncated branch of depth 2\n",
            "|   |   |   |   |   |   |   |   |   |--- feature_11 >  0.50\n",
            "|   |   |   |   |   |   |   |   |   |   |--- feature_0 <= 28.50\n",
            "|   |   |   |   |   |   |   |   |   |   |   |--- class: 1\n",
            "|   |   |   |   |   |   |   |   |   |   |--- feature_0 >  28.50\n",
            "|   |   |   |   |   |   |   |   |   |   |   |--- truncated branch of depth 3\n",
            "|   |   |   |   |   |   |   |   |--- feature_0 >  31.00\n",
            "|   |   |   |   |   |   |   |   |   |--- feature_0 <= 43.50\n",
            "|   |   |   |   |   |   |   |   |   |   |--- class: 1\n",
            "|   |   |   |   |   |   |   |   |   |--- feature_0 >  43.50\n",
            "|   |   |   |   |   |   |   |   |   |   |--- feature_0 <= 46.50\n",
            "|   |   |   |   |   |   |   |   |   |   |   |--- class: 0\n",
            "|   |   |   |   |   |   |   |   |   |   |--- feature_0 >  46.50\n",
            "|   |   |   |   |   |   |   |   |   |   |   |--- class: 1\n",
            "|   |   |   |   |   |   |   |--- feature_0 >  53.50\n",
            "|   |   |   |   |   |   |   |   |--- feature_0 <= 72.50\n",
            "|   |   |   |   |   |   |   |   |   |--- class: 0\n",
            "|   |   |   |   |   |   |   |   |--- feature_0 >  72.50\n",
            "|   |   |   |   |   |   |   |   |   |--- class: 1\n",
            "|   |   |   |   |   |   |--- feature_3 >  31.66\n",
            "|   |   |   |   |   |   |   |--- feature_1 <= 0.50\n",
            "|   |   |   |   |   |   |   |   |--- feature_3 <= 367.05\n",
            "|   |   |   |   |   |   |   |   |   |--- feature_3 <= 37.00\n",
            "|   |   |   |   |   |   |   |   |   |   |--- feature_3 <= 35.25\n",
            "|   |   |   |   |   |   |   |   |   |   |   |--- class: 0\n",
            "|   |   |   |   |   |   |   |   |   |   |--- feature_3 >  35.25\n",
            "|   |   |   |   |   |   |   |   |   |   |   |--- truncated branch of depth 3\n",
            "|   |   |   |   |   |   |   |   |   |--- feature_3 >  37.00\n",
            "|   |   |   |   |   |   |   |   |   |   |--- class: 0\n",
            "|   |   |   |   |   |   |   |   |--- feature_3 >  367.05\n",
            "|   |   |   |   |   |   |   |   |   |--- class: 1\n",
            "|   |   |   |   |   |   |   |--- feature_1 >  0.50\n",
            "|   |   |   |   |   |   |   |   |--- feature_3 <= 52.83\n",
            "|   |   |   |   |   |   |   |   |   |--- feature_3 <= 52.28\n",
            "|   |   |   |   |   |   |   |   |   |   |--- feature_0 <= 45.00\n",
            "|   |   |   |   |   |   |   |   |   |   |   |--- class: 0\n",
            "|   |   |   |   |   |   |   |   |   |   |--- feature_0 >  45.00\n",
            "|   |   |   |   |   |   |   |   |   |   |   |--- class: 1\n",
            "|   |   |   |   |   |   |   |   |   |--- feature_3 >  52.28\n",
            "|   |   |   |   |   |   |   |   |   |   |--- class: 1\n",
            "|   |   |   |   |   |   |   |   |--- feature_3 >  52.83\n",
            "|   |   |   |   |   |   |   |   |   |--- feature_9 <= 0.50\n",
            "|   |   |   |   |   |   |   |   |   |   |--- feature_0 <= 41.00\n",
            "|   |   |   |   |   |   |   |   |   |   |   |--- truncated branch of depth 4\n",
            "|   |   |   |   |   |   |   |   |   |   |--- feature_0 >  41.00\n",
            "|   |   |   |   |   |   |   |   |   |   |   |--- class: 0\n",
            "|   |   |   |   |   |   |   |   |   |--- feature_9 >  0.50\n",
            "|   |   |   |   |   |   |   |   |   |   |--- feature_3 <= 80.69\n",
            "|   |   |   |   |   |   |   |   |   |   |   |--- class: 1\n",
            "|   |   |   |   |   |   |   |   |   |   |--- feature_3 >  80.69\n",
            "|   |   |   |   |   |   |   |   |   |   |   |--- truncated branch of depth 3\n",
            "\n"
          ]
        }
      ],
      "source": [
        "# Construyamos un archivo de texto con el conjunto de reglas de decision\n",
        "# de nuestro primer modelo de tipo arbol de decision\n",
        "from sklearn.tree import export_text\n",
        "print(export_text(ModelDt1))\n"
      ]
    },
    {
      "cell_type": "code",
      "execution_count": null,
      "metadata": {
        "id": "LXrLwYaXlBAV"
      },
      "outputs": [],
      "source": [
        "# Guardemos nuestro arbol de decision en un archivo de texto \n",
        "ModelDt1_test = export_text(ModelDt1)\n",
        "with open(\"ModelDt1.Tree\", \"w\") as EstimadorText:\n",
        "  EstimadorText.write(ModelDt1_test)\n"
      ]
    },
    {
      "cell_type": "code",
      "execution_count": null,
      "metadata": {
        "colab": {
          "base_uri": "https://localhost:8080/",
          "height": 303
        },
        "id": "6Qa9CSjrll7I",
        "outputId": "394c5ed3-f54d-4ad2-fef6-6b87f709796c"
      },
      "outputs": [
        {
          "data": {
            "image/png": "[encoded data removed]",
            "text/plain": [
              "<Figure size 360x360 with 1 Axes>"
            ]
          },
          "metadata": {},
          "output_type": "display_data"
        }
      ],
      "source": [
        "# Creacion de un grafico para nuestro arbol de decision \n",
        "from sklearn.tree import plot_tree\n",
        "\n",
        "plt.ioff()\n",
        "plt.figure(figsize = (5,5))\n",
        "plot_tree(ModelDt1)\n",
        "plt.savefig(\"ModelDt1_PrimerModelo.png\", dpi = 300)\n",
        "plt.ion()"
      ]
    },
    {
      "cell_type": "code",
      "execution_count": null,
      "metadata": {
        "colab": {
          "base_uri": "https://localhost:8080/"
        },
        "id": "rj2DpoNim_Qn",
        "outputId": "1ad7720d-f01e-4207-f5b0-158dea09e164"
      },
      "outputs": [
        {
          "name": "stdout",
          "output_type": "stream",
          "text": [
            "    Profundidad  AUC Train  AUC Test\n",
            "39         41.0   0.986381  0.799020\n",
            "2           4.0   0.820747  0.789088\n",
            "41         43.0   0.986381  0.787255\n",
            "48         50.0   0.986381  0.785891\n",
            "8          10.0   0.928011  0.784996\n",
            "16         18.0   0.984436  0.782268\n",
            "13         15.0   0.978599  0.781373\n",
            "10         12.0   0.952820  0.781373\n",
            "14         16.0   0.984436  0.780009\n",
            "43         45.0   0.986381  0.780009\n",
            "25         27.0   0.986381  0.780009\n",
            "46         48.0   0.986381  0.780009\n",
            "11         13.0   0.966926  0.779113\n",
            "57         59.0   0.986381  0.778645\n",
            "24         26.0   0.986381  0.778645\n",
            "54         56.0   0.986381  0.777749\n",
            "6           8.0   0.896149  0.776854\n",
            "30         32.0   0.986381  0.776385\n",
            "15         17.0   0.984436  0.776385\n",
            "52         54.0   0.986381  0.776385\n",
            "21         23.0   0.986381  0.776385\n",
            "7           9.0   0.914151  0.775490\n",
            "40         42.0   0.986381  0.774126\n",
            "22         24.0   0.986381  0.774126\n",
            "33         35.0   0.986381  0.774126\n",
            "31         33.0   0.986381  0.774126\n",
            "19         21.0   0.986381  0.772762\n",
            "51         53.0   0.986381  0.771867\n",
            "4           6.0   0.857967  0.771441\n",
            "36         38.0   0.986381  0.770503\n",
            "35         37.0   0.986381  0.769139\n",
            "1           3.0   0.809798  0.768713\n",
            "9          11.0   0.941388  0.768244\n",
            "12         14.0   0.974708  0.768244\n",
            "3           5.0   0.835108  0.767391\n",
            "55         57.0   0.986381  0.765985\n",
            "42         44.0   0.986381  0.760102\n",
            "26         28.0   0.986381  0.760102\n",
            "53         55.0   0.986381  0.760102\n",
            "23         25.0   0.986381  0.760102\n",
            "28         30.0   0.986381  0.757843\n",
            "17         19.0   0.986381  0.757843\n",
            "56         58.0   0.986381  0.756479\n",
            "37         39.0   0.986381  0.756479\n",
            "34         36.0   0.986381  0.756479\n",
            "27         29.0   0.986381  0.756479\n",
            "18         20.0   0.986381  0.754220\n",
            "44         46.0   0.986381  0.754220\n",
            "50         52.0   0.986381  0.754220\n",
            "29         31.0   0.986381  0.754220\n",
            "58         60.0   0.986381  0.752856\n",
            "38         40.0   0.986381  0.752856\n",
            "32         34.0   0.986381  0.752856\n",
            "49         51.0   0.986381  0.749233\n",
            "20         22.0   0.986381  0.749233\n",
            "45         47.0   0.986381  0.746974\n",
            "47         49.0   0.986381  0.745610\n",
            "5           7.0   0.883500  0.741560\n",
            "0           2.0   0.746348  0.669224\n"
          ]
        }
      ],
      "source": [
        "# Listas para guardar los auc\n",
        "train_results = []\n",
        "test_results = []\n",
        "\n",
        "# Definamos un dataframe \n",
        "d = pd.DataFrame()\n",
        "\n",
        "# Espacio de busqueda para el hiperparametro mas_depth\n",
        "EspMaxProf = np.linspace(2,60, 59)\n",
        "\n",
        "# Estructura repetitiva para barrer todos los valores de EspMaxProf\n",
        "for MaxProfundidad in EspMaxProf:\n",
        "  # Construimos un modelo \n",
        "  dt = DecisionTreeClassifier(max_depth = MaxProfundidad)\n",
        "  # Ajustamos este modelo con los datos de entrenamiento\n",
        "  dt.fit(X_entrenamiento, y_entrenamiento)\n",
        "  # Calculo prediccion \n",
        "  ForecastTrain = dt.predict(X_entrenamiento)\n",
        "  # Calculamos el AUC para los datos de entrenamiento \n",
        "  Fp, Tp, Thrsd = metrics.roc_curve(y_entrenamiento, ForecastTrain)\n",
        "  AUC_train = metrics.auc(Fp, Tp)\n",
        "  train_results.append(AUC_train)\n",
        "  # \n",
        "  # Ahora lo mismo para los datos de prueba \n",
        "  ForecastTest = dt.predict(X_prueba)\n",
        "  Fp, Tp, thrsd = metrics.roc_curve(y_prueba, ForecastTest)\n",
        "  AUC_Test = metrics.auc(Fp, Tp)\n",
        "  test_results.append(AUC_Test)\n",
        "\n",
        "# Almacenamos toda esta informacion en un dataframe \n",
        "d = pd.DataFrame({\"Profundidad\" : EspMaxProf,\n",
        "                  \"AUC Train\": train_results,\n",
        "                  \"AUC Test\" : test_results})\n",
        "\n",
        "print(d.sort_values(by = \"AUC Test\", ascending = False))"
      ]
    },
    {
      "cell_type": "code",
      "execution_count": null,
      "metadata": {
        "id": "96ZivxBasWCk"
      },
      "outputs": [],
      "source": [
        "# EMpecemos estudiando a los bosques aleatorios \n",
        "# Modelado \n",
        "from sklearn.ensemble import RandomForestClassifier\n",
        "# Carguemos la clase GridSearchCV para realizar una busqueda\n",
        "# de Hiperparametros \n",
        "from sklearn.model_selection import GridSearchCV\n",
        "\n"
      ]
    },
    {
      "cell_type": "code",
      "execution_count": null,
      "metadata": {
        "colab": {
          "base_uri": "https://localhost:8080/"
        },
        "id": "CmgF6okis792",
        "outputId": "0a7e92c5-fa43-4e88-a707-3b0874669473"
      },
      "outputs": [
        {
          "name": "stdout",
          "output_type": "stream",
          "text": [
            "Score : 0.800000\n",
            "AUC : 0.796380 \n"
          ]
        }
      ],
      "source": [
        "# Definamos variables independientes y dependiente nuevas\n",
        "y = labels\n",
        "X = features\n",
        "\n",
        "# Particionemos nuestro dataset \n",
        "X_train, X_test, yTrain, yTest = train_test_split(X,y,\n",
        "                                                  train_size = 0.9)\n",
        "\n",
        "# Instanciamos el modelo \n",
        "Bosque1Titanic = RandomForestClassifier()\n",
        "\n",
        "# Ajustamos el modelo \n",
        "Bosque1Titanic.fit(X_train, yTrain)\n",
        "\n",
        "# Calculomos los scores para los datos de testeo \n",
        "score = Bosque1Titanic.score(X_test, yTest)\n",
        "print(\"Score : %f\" %(score))\n",
        "\n",
        "# Pronostiquemos con los datos de testeo \n",
        "yForecast_Bosque1 = Bosque1Titanic.predict(X_test)\n",
        "\n",
        "# Calculo del AUC\n",
        "Fp, Tp, Thres = metrics.roc_curve(yTest, yForecast_Bosque1)\n",
        "AUC_Bosque1 = metrics.auc(Fp, Tp)\n",
        "print(\"AUC : %f \" %(AUC_Bosque1))"
      ]
    },
    {
      "cell_type": "code",
      "execution_count": null,
      "metadata": {
        "id": "bqK8s7qYvH_I"
      },
      "outputs": [],
      "source": [
        "# Veamos los argumento de la clase RandomForestClasiffier\n",
        "help(RandomForestClassifier)"
      ]
    },
    {
      "cell_type": "code",
      "execution_count": null,
      "metadata": {
        "colab": {
          "base_uri": "https://localhost:8080/"
        },
        "id": "ZhukaZ04vaq9",
        "outputId": "e4215fa2-3954-40fe-d631-4b924c017b39"
      },
      "outputs": [
        {
          "data": {
            "text/plain": [
              "{'bootstrap': True,\n",
              " 'ccp_alpha': 0.0,\n",
              " 'class_weight': None,\n",
              " 'criterion': 'gini',\n",
              " 'max_depth': None,\n",
              " 'max_features': 'auto',\n",
              " 'max_leaf_nodes': None,\n",
              " 'max_samples': None,\n",
              " 'min_impurity_decrease': 0.0,\n",
              " 'min_samples_leaf': 1,\n",
              " 'min_samples_split': 2,\n",
              " 'min_weight_fraction_leaf': 0.0,\n",
              " 'n_estimators': 100,\n",
              " 'n_jobs': None,\n",
              " 'oob_score': False,\n",
              " 'random_state': None,\n",
              " 'verbose': 0,\n",
              " 'warm_start': False}"
            ]
          },
          "execution_count": 71,
          "metadata": {},
          "output_type": "execute_result"
        }
      ],
      "source": [
        "# Parametros del modelo Bosque1Titanic\n",
        "Bosque1Titanic.get_params()"
      ]
    },
    {
      "cell_type": "code",
      "execution_count": null,
      "metadata": {
        "colab": {
          "background_save": true
        },
        "id": "MveXfrVdvlAN",
        "outputId": "ae6264ca-2337-4349-8de4-8a4141408eef"
      },
      "outputs": [
        {
          "name": "stdout",
          "output_type": "stream",
          "text": [
            "Tiempo de procesamiento  2889.098347425461\n",
            "Mejor Score 0.621723602484472\n",
            "Mejor Modelo  RandomForestClassifier(max_depth=3.0, min_samples_leaf=0.25,\n",
            "                       min_samples_split=0.1, n_estimators=50)\n"
          ]
        },
        {
          "name": "stderr",
          "output_type": "stream",
          "text": [
            "/usr/local/lib/python3.8/dist-packages/sklearn/model_selection/_validation.py:372: FitFailedWarning: \n",
            "5500 fits failed out of a total of 22000.\n",
            "The score on these train-test partitions for these parameters will be set to nan.\n",
            "If these failures are not expected, you can try to debug them by setting error_score='raise'.\n",
            "\n",
            "Below are more details about the failures:\n",
            "--------------------------------------------------------------------------------\n",
            "2750 fits failed with the following error:\n",
            "Traceback (most recent call last):\n",
            "  File \"/usr/local/lib/python3.8/dist-packages/sklearn/model_selection/_validation.py\", line 680, in _fit_and_score\n",
            "    estimator.fit(X_train, y_train, **fit_params)\n",
            "  File \"/usr/local/lib/python3.8/dist-packages/sklearn/ensemble/_forest.py\", line 450, in fit\n",
            "    trees = Parallel(\n",
            "  File \"/usr/local/lib/python3.8/dist-packages/joblib/parallel.py\", line 1085, in __call__\n",
            "    if self.dispatch_one_batch(iterator):\n",
            "  File \"/usr/local/lib/python3.8/dist-packages/joblib/parallel.py\", line 901, in dispatch_one_batch\n",
            "    self._dispatch(tasks)\n",
            "  File \"/usr/local/lib/python3.8/dist-packages/joblib/parallel.py\", line 819, in _dispatch\n",
            "    job = self._backend.apply_async(batch, callback=cb)\n",
            "  File \"/usr/local/lib/python3.8/dist-packages/joblib/_parallel_backends.py\", line 208, in apply_async\n",
            "    result = ImmediateResult(func)\n",
            "  File \"/usr/local/lib/python3.8/dist-packages/joblib/_parallel_backends.py\", line 597, in __init__\n",
            "    self.results = batch()\n",
            "  File \"/usr/local/lib/python3.8/dist-packages/joblib/parallel.py\", line 288, in __call__\n",
            "    return [func(*args, **kwargs)\n",
            "  File \"/usr/local/lib/python3.8/dist-packages/joblib/parallel.py\", line 288, in <listcomp>\n",
            "    return [func(*args, **kwargs)\n",
            "  File \"/usr/local/lib/python3.8/dist-packages/sklearn/utils/fixes.py\", line 216, in __call__\n",
            "    return self.function(*args, **kwargs)\n",
            "  File \"/usr/local/lib/python3.8/dist-packages/sklearn/ensemble/_forest.py\", line 185, in _parallel_build_trees\n",
            "    tree.fit(X, y, sample_weight=curr_sample_weight, check_input=False)\n",
            "  File \"/usr/local/lib/python3.8/dist-packages/sklearn/tree/_classes.py\", line 937, in fit\n",
            "    super().fit(\n",
            "  File \"/usr/local/lib/python3.8/dist-packages/sklearn/tree/_classes.py\", line 242, in fit\n",
            "    raise ValueError(\n",
            "ValueError: min_samples_leaf must be at least 1 or in (0, 0.5], got 0.55\n",
            "\n",
            "--------------------------------------------------------------------------------\n",
            "2750 fits failed with the following error:\n",
            "Traceback (most recent call last):\n",
            "  File \"/usr/local/lib/python3.8/dist-packages/sklearn/model_selection/_validation.py\", line 680, in _fit_and_score\n",
            "    estimator.fit(X_train, y_train, **fit_params)\n",
            "  File \"/usr/local/lib/python3.8/dist-packages/sklearn/ensemble/_forest.py\", line 450, in fit\n",
            "    trees = Parallel(\n",
            "  File \"/usr/local/lib/python3.8/dist-packages/joblib/parallel.py\", line 1085, in __call__\n",
            "    if self.dispatch_one_batch(iterator):\n",
            "  File \"/usr/local/lib/python3.8/dist-packages/joblib/parallel.py\", line 901, in dispatch_one_batch\n",
            "    self._dispatch(tasks)\n",
            "  File \"/usr/local/lib/python3.8/dist-packages/joblib/parallel.py\", line 819, in _dispatch\n",
            "    job = self._backend.apply_async(batch, callback=cb)\n",
            "  File \"/usr/local/lib/python3.8/dist-packages/joblib/_parallel_backends.py\", line 208, in apply_async\n",
            "    result = ImmediateResult(func)\n",
            "  File \"/usr/local/lib/python3.8/dist-packages/joblib/_parallel_backends.py\", line 597, in __init__\n",
            "    self.results = batch()\n",
            "  File \"/usr/local/lib/python3.8/dist-packages/joblib/parallel.py\", line 288, in __call__\n",
            "    return [func(*args, **kwargs)\n",
            "  File \"/usr/local/lib/python3.8/dist-packages/joblib/parallel.py\", line 288, in <listcomp>\n",
            "    return [func(*args, **kwargs)\n",
            "  File \"/usr/local/lib/python3.8/dist-packages/sklearn/utils/fixes.py\", line 216, in __call__\n",
            "    return self.function(*args, **kwargs)\n",
            "  File \"/usr/local/lib/python3.8/dist-packages/sklearn/ensemble/_forest.py\", line 185, in _parallel_build_trees\n",
            "    tree.fit(X, y, sample_weight=curr_sample_weight, check_input=False)\n",
            "  File \"/usr/local/lib/python3.8/dist-packages/sklearn/tree/_classes.py\", line 937, in fit\n",
            "    super().fit(\n",
            "  File \"/usr/local/lib/python3.8/dist-packages/sklearn/tree/_classes.py\", line 242, in fit\n",
            "    raise ValueError(\n",
            "ValueError: min_samples_leaf must be at least 1 or in (0, 0.5], got 0.6\n",
            "\n",
            "  warnings.warn(some_fits_failed_message, FitFailedWarning)\n",
            "/usr/local/lib/python3.8/dist-packages/sklearn/model_selection/_search.py:969: UserWarning: One or more of the test scores are non-finite: [0.6217236 0.6217236 0.6217236 ...       nan       nan       nan]\n",
            "  warnings.warn(\n"
          ]
        }
      ],
      "source": [
        "# Realicemos una busqueda de hiperparametros \n",
        "ModBosque = RandomForestClassifier()\n",
        "\n",
        "# Diccionario de hiperparametros \n",
        "DictHPBosque ={\"n_estimators\" : [50, 60, 70, 80,90, 105, 110, 130, 140, 150, 160],\n",
        "               \"max_depth\" : np.linspace(3,7,5),\n",
        "               \"criterion\": [\"gini\", \"entropy\"],\n",
        "               \"min_samples_split\": np.linspace(0.1, 0.9, 5),\n",
        "               \"min_samples_leaf\": np.linspace(0.25,0.60, 8)}\n",
        "\n",
        "# Configuramos la busqueda de hiperparametros \n",
        "ClfBosqueGS = GridSearchCV(estimator = ModBosque,\n",
        "                           param_grid = DictHPBosque,\n",
        "                           cv = 5, \n",
        "                           scoring = \"accuracy\")\n",
        "\n",
        "# Realicemos el trabajo duro \n",
        "import time \n",
        "Inicio = time.time()\n",
        "MejorBosque = ClfBosqueGS.fit(X_train, yTrain)\n",
        "Fin = time.time()\n",
        "print(\"Tiempo de procesamiento \", Fin-Inicio)\n",
        "\n",
        "print(\"Mejor Score\", MejorBosque.best_score_)\n",
        "\n",
        "print(\"Mejor Modelo \", MejorBosque.best_estimator_)\n"
      ]
    }
  ],
  "metadata": {
    "colab": {
      "provenance": []
    },
    "kernelspec": {
      "display_name": "Python 3",
      "name": "python3"
    },
    "language_info": {
      "name": "python"
    }
  },
  "nbformat": 4,
  "nbformat_minor": 0
}