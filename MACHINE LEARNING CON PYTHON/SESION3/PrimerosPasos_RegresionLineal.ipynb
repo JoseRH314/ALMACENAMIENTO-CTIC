{
  "nbformat": 4,
  "nbformat_minor": 0,
  "metadata": {
    "colab": {
      "provenance": []
    },
    "kernelspec": {
      "name": "python3",
      "display_name": "Python 3"
    },
    "language_info": {
      "name": "python"
    }
  },
  "cells": [
    {
      "cell_type": "code",
      "execution_count": null,
      "metadata": {
        "id": "2uyHdRAWxUzi"
      },
      "outputs": [],
      "source": [
        "# Modulos y datos \n",
        "import numpy as np\n",
        "import matplotlib.pyplot as plt\n",
        "import seaborn as sns\n",
        "import pandas as pd\n",
        "\n",
        "# Scikit - learn \n",
        "# Una funcion para particionar datos en train/test\n",
        "from sklearn.model_selection import train_test_split\n",
        "\n",
        "# Clase para construir modelos de regresion lineal \n",
        "from sklearn.linear_model import LinearRegression\n",
        "#\n",
        "# Para conocer la calidad de mi modelo : test\n",
        "from sklearn import metrics\n",
        "\n",
        "#datos\n",
        "datos = pd.read_csv(\"https://raw.githubusercontent.com/robintux/Datasets4StackOverFlowQuestions/master/Consumo_cerveza_SP.csv\")"
      ]
    },
    {
      "cell_type": "code",
      "source": [
        "# Preprocesamiento de datos\n",
        "# Tipos de datos de cada columna\n",
        "datos.info()\n",
        " "
      ],
      "metadata": {
        "colab": {
          "base_uri": "https://localhost:8080/"
        },
        "id": "Fq66oYlExrUY",
        "outputId": "5ac66a79-c331-4a39-dd38-89c9aa596869"
      },
      "execution_count": null,
      "outputs": [
        {
          "output_type": "stream",
          "name": "stdout",
          "text": [
            "<class 'pandas.core.frame.DataFrame'>\n",
            "RangeIndex: 941 entries, 0 to 940\n",
            "Data columns (total 7 columns):\n",
            " #   Column                       Non-Null Count  Dtype  \n",
            "---  ------                       --------------  -----  \n",
            " 0   Data                         365 non-null    object \n",
            " 1   Temperatura Media (C)        365 non-null    object \n",
            " 2   Temperatura Minima (C)       365 non-null    object \n",
            " 3   Temperatura Maxima (C)       365 non-null    object \n",
            " 4   Precipitacao (mm)            365 non-null    object \n",
            " 5   Final de Semana              365 non-null    float64\n",
            " 6   Consumo de cerveja (litros)  365 non-null    float64\n",
            "dtypes: float64(2), object(5)\n",
            "memory usage: 51.6+ KB\n"
          ]
        }
      ]
    },
    {
      "cell_type": "code",
      "source": [
        "# Valores faltantes\n",
        "datos.isnull().sum()"
      ],
      "metadata": {
        "colab": {
          "base_uri": "https://localhost:8080/"
        },
        "id": "eO8b7dmfybWS",
        "outputId": "8d91f479-f0aa-4336-c61b-48795d707b94"
      },
      "execution_count": null,
      "outputs": [
        {
          "output_type": "execute_result",
          "data": {
            "text/plain": [
              "Data                           576\n",
              "Temperatura Media (C)          576\n",
              "Temperatura Minima (C)         576\n",
              "Temperatura Maxima (C)         576\n",
              "Precipitacao (mm)              576\n",
              "Final de Semana                576\n",
              "Consumo de cerveja (litros)    576\n",
              "dtype: int64"
            ]
          },
          "metadata": {},
          "execution_count": 6
        }
      ]
    },
    {
      "cell_type": "code",
      "source": [
        "# Arreglemos los nombres de las columnas : Eliminemos los espacios en blanco\n",
        "datos.rename(columns = {\"Temperatura Media (C)\" : \n",
        "                       \"Temperatura_Media\",\n",
        "             \"Temperatura Minima (C)\" : \"Temperatura_Minima\",\n",
        "             \"Temperatura Maxima (C)\" : \"Temperatura_Maxima\",\n",
        "             \"Precipitacao (mm)\" : \"Precipitacion\",\n",
        "             \"Final de Semana\" : \"Fin_de_semana\",\n",
        "             \"Consumo de cerveja (litros)\" : \"Consumo_litros\"},\n",
        "             inplace = True)\n"
      ],
      "metadata": {
        "id": "-RR_tJF9yr7i"
      },
      "execution_count": null,
      "outputs": []
    },
    {
      "cell_type": "code",
      "source": [
        "# Mostremos los nombres de las columnas\n",
        "datos.columns"
      ],
      "metadata": {
        "colab": {
          "base_uri": "https://localhost:8080/"
        },
        "id": "pstjWCFL0CgK",
        "outputId": "7f4bc174-1b0e-48d4-dd93-14c3b6f9b6d6"
      },
      "execution_count": null,
      "outputs": [
        {
          "output_type": "execute_result",
          "data": {
            "text/plain": [
              "Index(['Data', 'Temperatura_Media', 'Temperatura_Minima', 'Temperatura_Maxima',\n",
              "       'Precipitacion', 'Fin_de_semana', 'Consumo_litros'],\n",
              "      dtype='object')"
            ]
          },
          "metadata": {},
          "execution_count": 11
        }
      ]
    },
    {
      "cell_type": "code",
      "source": [
        "# Otro problema: Esque las columnas estan almacenadas como cadenas de caracteres\n",
        "# usan una coma decimal en vez de el puntos decimal : 'Temperatura Media', 'Temepratura Minima',\n",
        "# 'Temperatura Maxima', 'Precipitacion', ..\n",
        "#\n",
        "datos.Temperatura_Media = datos.Temperatura_Media.str.replace(\",\",\".\").astype(float)\n",
        "datos.Temperatura_Minima = datos.Temperatura_Minima.str.replace(\",\",\".\").astype(float)\n",
        "datos.Temperatura_Maxima = datos.Temperatura_Maxima.str.replace(\",\",\".\").astype(float)\n",
        "datos.Precipitacion = datos.Precipitacion.str.replace(\",\",\".\").astype(float)"
      ],
      "metadata": {
        "id": "XsjyNcSa2MB2"
      },
      "execution_count": null,
      "outputs": []
    },
    {
      "cell_type": "code",
      "source": [
        "# Como quedaron lso tipos de datos para las columnas\n",
        "datos.info()"
      ],
      "metadata": {
        "colab": {
          "base_uri": "https://localhost:8080/"
        },
        "id": "yq7SANYl301K",
        "outputId": "f6d06956-5a84-4d52-966f-26f793ac23a9"
      },
      "execution_count": null,
      "outputs": [
        {
          "output_type": "stream",
          "name": "stdout",
          "text": [
            "<class 'pandas.core.frame.DataFrame'>\n",
            "RangeIndex: 941 entries, 0 to 940\n",
            "Data columns (total 7 columns):\n",
            " #   Column              Non-Null Count  Dtype  \n",
            "---  ------              --------------  -----  \n",
            " 0   Data                365 non-null    object \n",
            " 1   Temperatura_Media   365 non-null    float64\n",
            " 2   Temperatura_Minima  365 non-null    float64\n",
            " 3   Temperatura_Maxima  365 non-null    float64\n",
            " 4   Precipitacion       365 non-null    float64\n",
            " 5   Fin_de_semana       365 non-null    float64\n",
            " 6   Consumo_litros      365 non-null    float64\n",
            "dtypes: float64(6), object(1)\n",
            "memory usage: 51.6+ KB\n"
          ]
        }
      ]
    },
    {
      "cell_type": "code",
      "source": [
        "# Eliminemos los valores faltantes\n",
        "datos = datos.dropna()\n",
        "datos.isnull().sum()"
      ],
      "metadata": {
        "colab": {
          "base_uri": "https://localhost:8080/"
        },
        "id": "Q-IhOGAm4FBI",
        "outputId": "2a70cf84-f7f2-4292-fb36-9d161b60b66d"
      },
      "execution_count": null,
      "outputs": [
        {
          "output_type": "execute_result",
          "data": {
            "text/plain": [
              "Data                  0\n",
              "Temperatura_Media     0\n",
              "Temperatura_Minima    0\n",
              "Temperatura_Maxima    0\n",
              "Precipitacion         0\n",
              "Fin_de_semana         0\n",
              "Consumo_litros        0\n",
              "dtype: int64"
            ]
          },
          "metadata": {},
          "execution_count": 18
        }
      ]
    },
    {
      "cell_type": "code",
      "source": [
        "# Como la columna Dataa tiene informacion en la linea del tiempo \n",
        "# voy a transformarla a un dato de tipo datatime\n",
        "datos.Data = pd.to_datetime(datos.Data)\n",
        "datos.info()"
      ],
      "metadata": {
        "colab": {
          "base_uri": "https://localhost:8080/"
        },
        "id": "VABhCu4g6n5X",
        "outputId": "be9924e6-4545-47bd-ced6-c7171cdbd351"
      },
      "execution_count": null,
      "outputs": [
        {
          "output_type": "stream",
          "name": "stdout",
          "text": [
            "<class 'pandas.core.frame.DataFrame'>\n",
            "Int64Index: 365 entries, 0 to 364\n",
            "Data columns (total 7 columns):\n",
            " #   Column              Non-Null Count  Dtype         \n",
            "---  ------              --------------  -----         \n",
            " 0   Data                365 non-null    datetime64[ns]\n",
            " 1   Temperatura_Media   365 non-null    float64       \n",
            " 2   Temperatura_Minima  365 non-null    float64       \n",
            " 3   Temperatura_Maxima  365 non-null    float64       \n",
            " 4   Precipitacion       365 non-null    float64       \n",
            " 5   Fin_de_semana       365 non-null    float64       \n",
            " 6   Consumo_litros      365 non-null    float64       \n",
            "dtypes: datetime64[ns](1), float64(6)\n",
            "memory usage: 22.8 KB\n"
          ]
        },
        {
          "output_type": "stream",
          "name": "stderr",
          "text": [
            "/usr/local/lib/python3.8/dist-packages/pandas/core/generic.py:5516: SettingWithCopyWarning: \n",
            "A value is trying to be set on a copy of a slice from a DataFrame.\n",
            "Try using .loc[row_indexer,col_indexer] = value instead\n",
            "\n",
            "See the caveats in the documentation: https://pandas.pydata.org/pandas-docs/stable/user_guide/indexing.html#returning-a-view-versus-a-copy\n",
            "  self[name] = value\n"
          ]
        }
      ]
    },
    {
      "cell_type": "code",
      "source": [
        "# Construyamos nuestro promer modelo de regresion lineal\n",
        "#\n",
        "# Variable dependiente\n",
        "y = datos.Consumo_litros\n",
        "\n",
        "# Variable independiente\n",
        "x = datos[[\"Temperatura_Maxima\", \"Precipitacion\", \"Fin_de_semana\"]]\n",
        "\n",
        "#Particionamos nuestro datos\n",
        "X_train, X_test, y_train, y_test = train_test_split(x,# Almacena las vriables independientes\n",
        "                                                    y,# Almacena la variable dependiente\n",
        "                                                    test_size=0.2 # Espicifico el porcentaje de los datos\n",
        "                                                                  # asignados para testear/probar el modelo\n",
        "                                                    )\n"
      ],
      "metadata": {
        "id": "DUrewKJILjFV"
      },
      "execution_count": null,
      "outputs": []
    },
    {
      "cell_type": "code",
      "source": [
        "y_train.head()"
      ],
      "metadata": {
        "colab": {
          "base_uri": "https://localhost:8080/"
        },
        "id": "O-wFlGWishZ2",
        "outputId": "a6f9f2ea-f6a4-48b1-d5b6-1e3834dad7fd"
      },
      "execution_count": 38,
      "outputs": [
        {
          "output_type": "execute_result",
          "data": {
            "text/plain": [
              "205    20.738\n",
              "261    31.836\n",
              "145    22.162\n",
              "131    19.052\n",
              "50     24.567\n",
              "Name: Consumo_litros, dtype: float64"
            ]
          },
          "metadata": {},
          "execution_count": 38
        }
      ]
    },
    {
      "cell_type": "markdown",
      "source": [],
      "metadata": {
        "id": "6Uif1KyTyzfJ"
      }
    },
    {
      "cell_type": "code",
      "source": [
        "# Instanciamos la clase para el modelo \n",
        "model1 = LinearRegression()\n"
      ],
      "metadata": {
        "id": "bVPqRWx_o-hs"
      },
      "execution_count": 42,
      "outputs": []
    },
    {
      "cell_type": "code",
      "source": [
        "dir(LinearRegression)"
      ],
      "metadata": {
        "colab": {
          "base_uri": "https://localhost:8080/"
        },
        "id": "DngQAWaio7ow",
        "outputId": "033ae1ba-f621-44b0-da34-1c7041ad2c00"
      },
      "execution_count": 43,
      "outputs": [
        {
          "output_type": "execute_result",
          "data": {
            "text/plain": [
              "['__abstractmethods__',\n",
              " '__class__',\n",
              " '__delattr__',\n",
              " '__dict__',\n",
              " '__dir__',\n",
              " '__doc__',\n",
              " '__eq__',\n",
              " '__format__',\n",
              " '__ge__',\n",
              " '__getattribute__',\n",
              " '__getstate__',\n",
              " '__gt__',\n",
              " '__hash__',\n",
              " '__init__',\n",
              " '__init_subclass__',\n",
              " '__le__',\n",
              " '__lt__',\n",
              " '__module__',\n",
              " '__ne__',\n",
              " '__new__',\n",
              " '__reduce__',\n",
              " '__reduce_ex__',\n",
              " '__repr__',\n",
              " '__setattr__',\n",
              " '__setstate__',\n",
              " '__sizeof__',\n",
              " '__str__',\n",
              " '__subclasshook__',\n",
              " '__weakref__',\n",
              " '_abc_impl',\n",
              " '_check_feature_names',\n",
              " '_check_n_features',\n",
              " '_decision_function',\n",
              " '_estimator_type',\n",
              " '_get_param_names',\n",
              " '_get_tags',\n",
              " '_more_tags',\n",
              " '_preprocess_data',\n",
              " '_repr_html_',\n",
              " '_repr_html_inner',\n",
              " '_repr_mimebundle_',\n",
              " '_set_intercept',\n",
              " '_validate_data',\n",
              " 'fit',\n",
              " 'get_params',\n",
              " 'predict',\n",
              " 'score',\n",
              " 'set_params']"
            ]
          },
          "metadata": {},
          "execution_count": 43
        }
      ]
    },
    {
      "cell_type": "code",
      "source": [
        "# Ajustemos el modelo a los datos de entrenamiento\n",
        "model1.fit(X_train, y_train)\n",
        "#help(model1.fit)"
      ],
      "metadata": {
        "colab": {
          "base_uri": "https://localhost:8080/"
        },
        "id": "fYfNI146pnVF",
        "outputId": "ec8840e1-a4bb-47ba-ddaa-fca33c302b77"
      },
      "execution_count": 44,
      "outputs": [
        {
          "output_type": "execute_result",
          "data": {
            "text/plain": [
              "LinearRegression()"
            ]
          },
          "metadata": {},
          "execution_count": 44
        }
      ]
    },
    {
      "cell_type": "code",
      "source": [
        "# R2\n",
        "R2 = model1.score(X_train, y_train)\n",
        "R2"
      ],
      "metadata": {
        "colab": {
          "base_uri": "https://localhost:8080/"
        },
        "id": "4HcjYdvi0ALY",
        "outputId": "e87024e4-4a3c-4b79-8725-6bcba988bff3"
      },
      "execution_count": 45,
      "outputs": [
        {
          "output_type": "execute_result",
          "data": {
            "text/plain": [
              "0.7239588763312111"
            ]
          },
          "metadata": {},
          "execution_count": 45
        }
      ]
    },
    {
      "cell_type": "code",
      "source": [
        "# Parametros del modeloos : Coeficientes que acompañan a las variables independientes\n",
        "m = model1.coef_\n",
        "b = model1.intercept_\n",
        "# Recordar que el modelo esta compuesto por 3 variables independientes\n",
        "print(\"\"\" El modelo es : y = %f (TempMaxima) + %f (Precipitacion) + %f (FinSemana)\n",
        " +  %f \"\"\" %(m[0],m[1],m[2], b))\n"
      ],
      "metadata": {
        "colab": {
          "base_uri": "https://localhost:8080/"
        },
        "id": "BhsZvlcj0dAn",
        "outputId": "16d317ef-5b95-40fb-ada9-b443b24c159f"
      },
      "execution_count": 48,
      "outputs": [
        {
          "output_type": "stream",
          "name": "stdout",
          "text": [
            " El modelo es : y = 0.659516 (TempMaxima) + -0.059365 (Precipitacion) + 5.271789 (FinSemana)\n",
            " +  6.799245 \n"
          ]
        }
      ]
    },
    {
      "cell_type": "code",
      "source": [
        "# Construyamos las predicciones para el dataset \n",
        "y_sombrero = model1.predict(X_test)\n",
        "y_sombrero"
      ],
      "metadata": {
        "colab": {
          "base_uri": "https://localhost:8080/"
        },
        "id": "0TOAPuWw3ba9",
        "outputId": "b07d20a6-aa4b-424f-b363-4a7033b69b2d"
      },
      "execution_count": 49,
      "outputs": [
        {
          "output_type": "execute_result",
          "data": {
            "text/plain": [
              "array([24.85939882, 32.6366967 , 22.80172703, 31.5267429 , 28.29945202,\n",
              "       19.28888447, 26.19021921, 24.14450404, 23.45643939, 32.38411312,\n",
              "       23.81474627, 27.15444601, 25.33163204, 29.28439002, 30.00985713,\n",
              "       18.24708418, 25.52355023, 24.00853172, 21.19839536, 32.14535342,\n",
              "       27.37613025, 24.72779623, 29.28439002, 31.14672472, 27.96969425,\n",
              "       26.84851781, 22.95737605, 27.17827559, 24.48214923, 22.17229316,\n",
              "       30.65191304, 22.35445668, 28.89301602, 21.28874313, 24.67211649,\n",
              "       26.71791532, 28.29511669, 28.29945202, 27.34641371, 27.11232403,\n",
              "       20.90230551, 29.2227738 , 21.77024805, 25.85924448, 25.59543826,\n",
              "       24.73806804, 33.17553178, 27.50803336, 22.23190894, 25.92519604,\n",
              "       20.20186588, 24.86997115, 27.05521072, 24.20248452, 31.79176607,\n",
              "       24.40831026, 24.74041828, 26.44847314, 28.11477094, 29.41629313,\n",
              "       28.88707954, 25.92519604, 22.82547294, 17.87763833, 23.06618356,\n",
              "       18.06093513, 22.2978605 , 24.93592271, 25.52515137, 21.30858717,\n",
              "       28.43135513, 24.85793086, 20.38526539])"
            ]
          },
          "metadata": {},
          "execution_count": 49
        }
      ]
    },
    {
      "cell_type": "code",
      "source": [
        "# Calculemos los errores/residuos\n",
        "errores = y_sombrero - y_test\n",
        "errores"
      ],
      "metadata": {
        "colab": {
          "base_uri": "https://localhost:8080/"
        },
        "id": "5yqn3PRH3-tD",
        "outputId": "6d1939d8-7b73-4e26-9bb5-47524e0cdd2f"
      },
      "execution_count": 51,
      "outputs": [
        {
          "output_type": "execute_result",
          "data": {
            "text/plain": [
              "285   -1.663601\n",
              "352    0.100697\n",
              "97    -0.560273\n",
              "86     1.766743\n",
              "279   -2.029548\n",
              "         ...   \n",
              "170    2.470151\n",
              "120    3.369587\n",
              "263   -1.397645\n",
              "109    0.553931\n",
              "203    1.356265\n",
              "Name: Consumo_litros, Length: 73, dtype: float64"
            ]
          },
          "metadata": {},
          "execution_count": 51
        }
      ]
    },
    {
      "cell_type": "code",
      "source": [
        "# Visualicemos los errores\n",
        "plt.scatter(range(0,len(errores)),errores)\n",
        "plt.hlines(y = 0,\n",
        "            xmin = 0,\n",
        "            xmax = len(errores),\n",
        "            linestyles = \"solid\")\n",
        "plt.ylabel(\"Errores : e_i\")\n",
        "plt.xlabel(\"Suma de los cuadrados de los errores: \" + str((errores.sum())**2))\n",
        "plt.show()\n"
      ],
      "metadata": {
        "colab": {
          "base_uri": "https://localhost:8080/",
          "height": 279
        },
        "id": "L7x6JHv-4NMa",
        "outputId": "d6b1ce32-846e-4f17-c488-d821b57f9a86"
      },
      "execution_count": 61,
      "outputs": [
        {
          "output_type": "display_data",
          "data": {
            "text/plain": [
              "<Figure size 432x288 with 1 Axes>"
            ],
            "image/png": "[encoded data removed]"
          },
          "metadata": {
            "needs_background": "light"
          }
        }
      ]
    },
    {
      "cell_type": "code",
      "source": [
        "# Distribucion de lso errores\n",
        "sns.distplot(errores)\n",
        "plt.show()"
      ],
      "metadata": {
        "colab": {
          "base_uri": "https://localhost:8080/",
          "height": 335
        },
        "id": "jtLEl0dj7jJ1",
        "outputId": "6badcf3d-2415-4227-dd92-c5f343359b99"
      },
      "execution_count": 70,
      "outputs": [
        {
          "output_type": "stream",
          "name": "stderr",
          "text": [
            "/usr/local/lib/python3.8/dist-packages/seaborn/distributions.py:2619: FutureWarning: `distplot` is a deprecated function and will be removed in a future version. Please adapt your code to use either `displot` (a figure-level function with similar flexibility) or `histplot` (an axes-level function for histograms).\n",
            "  warnings.warn(msg, FutureWarning)\n"
          ]
        },
        {
          "output_type": "display_data",
          "data": {
            "text/plain": [
              "<Figure size 432x288 with 1 Axes>"
            ],
            "image/png": "[encoded data removed]"
          },
          "metadata": {
            "needs_background": "light"
          }
        }
      ]
    },
    {
      "cell_type": "code",
      "source": [
        "# R2 para los datos de testeo\n",
        "model1.score(X_test, y_test)\n"
      ],
      "metadata": {
        "colab": {
          "base_uri": "https://localhost:8080/"
        },
        "id": "em6fDFRP9TmL",
        "outputId": "d9d5ed28-53ef-41a4-ef3c-111bd346b90a"
      },
      "execution_count": 71,
      "outputs": [
        {
          "output_type": "execute_result",
          "data": {
            "text/plain": [
              "0.70640473928768"
            ]
          },
          "metadata": {},
          "execution_count": 71
        }
      ]
    },
    {
      "cell_type": "code",
      "source": [
        "# Usemos una matrica de calidad\n",
        "dir(metrics)"
      ],
      "metadata": {
        "colab": {
          "base_uri": "https://localhost:8080/"
        },
        "id": "gKCYIn-u9oKz",
        "outputId": "92decc88-d478-4a1e-93ef-90bdc4aa6860"
      },
      "execution_count": 72,
      "outputs": [
        {
          "output_type": "execute_result",
          "data": {
            "text/plain": [
              "['ConfusionMatrixDisplay',\n",
              " 'DetCurveDisplay',\n",
              " 'DistanceMetric',\n",
              " 'PrecisionRecallDisplay',\n",
              " 'RocCurveDisplay',\n",
              " 'SCORERS',\n",
              " '__all__',\n",
              " '__builtins__',\n",
              " '__cached__',\n",
              " '__doc__',\n",
              " '__file__',\n",
              " '__loader__',\n",
              " '__name__',\n",
              " '__package__',\n",
              " '__path__',\n",
              " '__spec__',\n",
              " '_base',\n",
              " '_classification',\n",
              " '_dist_metrics',\n",
              " '_pairwise_fast',\n",
              " '_plot',\n",
              " '_ranking',\n",
              " '_regression',\n",
              " '_scorer',\n",
              " 'accuracy_score',\n",
              " 'adjusted_mutual_info_score',\n",
              " 'adjusted_rand_score',\n",
              " 'auc',\n",
              " 'average_precision_score',\n",
              " 'balanced_accuracy_score',\n",
              " 'brier_score_loss',\n",
              " 'calinski_harabasz_score',\n",
              " 'check_scoring',\n",
              " 'classification_report',\n",
              " 'cluster',\n",
              " 'cohen_kappa_score',\n",
              " 'completeness_score',\n",
              " 'confusion_matrix',\n",
              " 'consensus_score',\n",
              " 'coverage_error',\n",
              " 'd2_tweedie_score',\n",
              " 'davies_bouldin_score',\n",
              " 'dcg_score',\n",
              " 'det_curve',\n",
              " 'euclidean_distances',\n",
              " 'explained_variance_score',\n",
              " 'f1_score',\n",
              " 'fbeta_score',\n",
              " 'fowlkes_mallows_score',\n",
              " 'get_scorer',\n",
              " 'hamming_loss',\n",
              " 'hinge_loss',\n",
              " 'homogeneity_completeness_v_measure',\n",
              " 'homogeneity_score',\n",
              " 'jaccard_score',\n",
              " 'label_ranking_average_precision_score',\n",
              " 'label_ranking_loss',\n",
              " 'log_loss',\n",
              " 'make_scorer',\n",
              " 'matthews_corrcoef',\n",
              " 'max_error',\n",
              " 'mean_absolute_error',\n",
              " 'mean_absolute_percentage_error',\n",
              " 'mean_gamma_deviance',\n",
              " 'mean_pinball_loss',\n",
              " 'mean_poisson_deviance',\n",
              " 'mean_squared_error',\n",
              " 'mean_squared_log_error',\n",
              " 'mean_tweedie_deviance',\n",
              " 'median_absolute_error',\n",
              " 'multilabel_confusion_matrix',\n",
              " 'mutual_info_score',\n",
              " 'nan_euclidean_distances',\n",
              " 'ndcg_score',\n",
              " 'normalized_mutual_info_score',\n",
              " 'pair_confusion_matrix',\n",
              " 'pairwise',\n",
              " 'pairwise_distances',\n",
              " 'pairwise_distances_argmin',\n",
              " 'pairwise_distances_argmin_min',\n",
              " 'pairwise_distances_chunked',\n",
              " 'pairwise_kernels',\n",
              " 'plot_confusion_matrix',\n",
              " 'plot_det_curve',\n",
              " 'plot_precision_recall_curve',\n",
              " 'plot_roc_curve',\n",
              " 'precision_recall_curve',\n",
              " 'precision_recall_fscore_support',\n",
              " 'precision_score',\n",
              " 'r2_score',\n",
              " 'rand_score',\n",
              " 'recall_score',\n",
              " 'roc_auc_score',\n",
              " 'roc_curve',\n",
              " 'silhouette_samples',\n",
              " 'silhouette_score',\n",
              " 'top_k_accuracy_score',\n",
              " 'v_measure_score',\n",
              " 'zero_one_loss']"
            ]
          },
          "metadata": {},
          "execution_count": 72
        }
      ]
    },
    {
      "cell_type": "code",
      "source": [
        "# Documentacion para calcular el MAPE\n",
        "help(metrics.mean_absolute_percentage_error)"
      ],
      "metadata": {
        "colab": {
          "base_uri": "https://localhost:8080/"
        },
        "id": "sVSSGVcX9zYx",
        "outputId": "5862cf0d-e639-47f5-ec9f-cf9a0d8bfddb"
      },
      "execution_count": 73,
      "outputs": [
        {
          "output_type": "stream",
          "name": "stdout",
          "text": [
            "Help on function mean_absolute_percentage_error in module sklearn.metrics._regression:\n",
            "\n",
            "mean_absolute_percentage_error(y_true, y_pred, *, sample_weight=None, multioutput='uniform_average')\n",
            "    Mean absolute percentage error (MAPE) regression loss.\n",
            "    \n",
            "    Note here that the output is not a percentage in the range [0, 100]\n",
            "    and a value of 100 does not mean 100% but 1e2. Furthermore, the output\n",
            "    can be arbitrarily high when `y_true` is small (which is specific to the\n",
            "    metric) or when `abs(y_true - y_pred)` is large (which is common for most\n",
            "    regression metrics). Read more in the\n",
            "    :ref:`User Guide <mean_absolute_percentage_error>`.\n",
            "    \n",
            "    .. versionadded:: 0.24\n",
            "    \n",
            "    Parameters\n",
            "    ----------\n",
            "    y_true : array-like of shape (n_samples,) or (n_samples, n_outputs)\n",
            "        Ground truth (correct) target values.\n",
            "    \n",
            "    y_pred : array-like of shape (n_samples,) or (n_samples, n_outputs)\n",
            "        Estimated target values.\n",
            "    \n",
            "    sample_weight : array-like of shape (n_samples,), default=None\n",
            "        Sample weights.\n",
            "    \n",
            "    multioutput : {'raw_values', 'uniform_average'} or array-like\n",
            "        Defines aggregating of multiple output values.\n",
            "        Array-like value defines weights used to average errors.\n",
            "        If input is list then the shape must be (n_outputs,).\n",
            "    \n",
            "        'raw_values' :\n",
            "            Returns a full set of errors in case of multioutput input.\n",
            "    \n",
            "        'uniform_average' :\n",
            "            Errors of all outputs are averaged with uniform weight.\n",
            "    \n",
            "    Returns\n",
            "    -------\n",
            "    loss : float or ndarray of floats\n",
            "        If multioutput is 'raw_values', then mean absolute percentage error\n",
            "        is returned for each output separately.\n",
            "        If multioutput is 'uniform_average' or an ndarray of weights, then the\n",
            "        weighted average of all output errors is returned.\n",
            "    \n",
            "        MAPE output is non-negative floating point. The best value is 0.0.\n",
            "        But note that bad predictions can lead to arbitrarily large\n",
            "        MAPE values, especially if some `y_true` values are very close to zero.\n",
            "        Note that we return a large value instead of `inf` when `y_true` is zero.\n",
            "    \n",
            "    Examples\n",
            "    --------\n",
            "    >>> from sklearn.metrics import mean_absolute_percentage_error\n",
            "    >>> y_true = [3, -0.5, 2, 7]\n",
            "    >>> y_pred = [2.5, 0.0, 2, 8]\n",
            "    >>> mean_absolute_percentage_error(y_true, y_pred)\n",
            "    0.3273...\n",
            "    >>> y_true = [[0.5, 1], [-1, 1], [7, -6]]\n",
            "    >>> y_pred = [[0, 2], [-1, 2], [8, -5]]\n",
            "    >>> mean_absolute_percentage_error(y_true, y_pred)\n",
            "    0.5515...\n",
            "    >>> mean_absolute_percentage_error(y_true, y_pred, multioutput=[0.3, 0.7])\n",
            "    0.6198...\n",
            "    >>> # the value when some element of the y_true is zero is arbitrarily high because\n",
            "    >>> # of the division by epsilon\n",
            "    >>> y_true = [1., 0., 2.4, 7.]\n",
            "    >>> y_pred = [1.2, 0.1, 2.4, 8.]\n",
            "    >>> mean_absolute_percentage_error(y_true, y_pred)\n",
            "    112589990684262.48\n",
            "\n"
          ]
        }
      ]
    },
    {
      "cell_type": "code",
      "source": [
        "MAPE_model1 = metrics.mean_absolute_percentage_error(y_test, y_sombrero)*100\n",
        "MAPE_model1"
      ],
      "metadata": {
        "colab": {
          "base_uri": "https://localhost:8080/"
        },
        "id": "enAuNvIo-fZz",
        "outputId": "955f1c6c-e189-420d-8d0a-c205db898ba1"
      },
      "execution_count": 75,
      "outputs": [
        {
          "output_type": "execute_result",
          "data": {
            "text/plain": [
              "8.123817671847819"
            ]
          },
          "metadata": {},
          "execution_count": 75
        }
      ]
    },
    {
      "cell_type": "code",
      "source": [
        "# Resumamos nuestros pasos para construir un modelo de regresion lineal\n",
        "# Particionaar el dataset en train/test\n",
        "# Variables independientes\n",
        "x = datos[[\"Temperatura_Minima\", \"Precipitacion\", \"Fin_de_semana\"]]\n",
        "\n",
        "#Particionamos nuestro datos\n",
        "X_train, X_test, y_train, y_test = train_test_split(x,# Almacena las vriables independientes\n",
        "                                                    y,# Almacena la variable dependiente\n",
        "                                                    test_size=0.2 # Espicifico el porcentaje de los datos\n",
        "                                                                  # asignados para testear/probar el modelo\n",
        "                                                    )\n",
        "# Instanciamos la clase LinearRegression\n",
        "model2 = LinearRegression()\n",
        "\n",
        "# Ajusto el modelo a los datos de entrenamiento\n",
        "model2.fit(X_train, y_train)\n",
        "\n",
        "# Con el modelo ajustado construimos unas predicciones para los datos de test\n",
        "y_sombrero = model2.predict(X_test)\n",
        "\n",
        "# MAPE: Indicador de calidad\n",
        "MAPE_model2 = metrics.mean_absolute_percentage_error(y_test, y_sombrero)*100\n",
        "MAPE_model2 \n"
      ],
      "metadata": {
        "colab": {
          "base_uri": "https://localhost:8080/"
        },
        "id": "qMScl9Er-74j",
        "outputId": "3ddf4709-ad6a-4ee2-e5d8-55323d7a4635"
      },
      "execution_count": 86,
      "outputs": [
        {
          "output_type": "execute_result",
          "data": {
            "text/plain": [
              "9.655026914145235"
            ]
          },
          "metadata": {},
          "execution_count": 86
        }
      ]
    },
    {
      "cell_type": "code",
      "source": [
        "# Resumamos nuestros pasos para construir un modelo de regresion lineal\n",
        "# Particionaar el dataset en train/test\n",
        "# Variables independientes\n",
        "x = datos[[\"Temperatura_Media\", \"Precipitacion\", \"Fin_de_semana\"]]\n",
        "\n",
        "#Particionamos nuestro datos\n",
        "X_train, X_test, y_train, y_test = train_test_split(x,# Almacena las vriables independientes\n",
        "                                                    y,# Almacena la variable dependiente\n",
        "                                                    test_size=0.2 # Espicifico el porcentaje de los datos\n",
        "                                                                  # asignados para testear/probar el modelo\n",
        "                                                    )\n",
        "# Instanciamos la clase LinearRegression\n",
        "model3 = LinearRegression()\n",
        "\n",
        "# Ajusto el modelo a los datos de entrenamiento\n",
        "model3.fit(X_train, y_train)\n",
        "\n",
        "# Con el modelo ajustado construimos unas predicciones para los datos de test\n",
        "y_sombrero = model3.predict(X_test)\n",
        "\n",
        "# MAPE: Indicador de calidad\n",
        "MAPE_model3 = metrics.mean_absolute_percentage_error(y_test, y_sombrero)*100\n",
        "MAPE_model3 \n"
      ],
      "metadata": {
        "colab": {
          "base_uri": "https://localhost:8080/"
        },
        "id": "3ZXEsPL6Ar4p",
        "outputId": "8c2d4359-a5e2-434b-d250-d461c6feb091"
      },
      "execution_count": 82,
      "outputs": [
        {
          "output_type": "execute_result",
          "data": {
            "text/plain": [
              "8.68249441457118"
            ]
          },
          "metadata": {},
          "execution_count": 82
        }
      ]
    },
    {
      "cell_type": "code",
      "source": [
        "# Resumamos nuestros pasos para construir un modelo de regresion lineal\n",
        "# Particionaar el dataset en train/test\n",
        "# Variables independientes\n",
        "x = datos[[\"Temperatura_Minima\", \"Temperatura_Media\", \"Temperatura_Maxima\", \"Precipitacion\", \"Fin_de_semana\"]]\n",
        "\n",
        "#Particionamos nuestro datos\n",
        "X_train, X_test, y_train, y_test = train_test_split(x,# Almacena las vriables independientes\n",
        "                                                    y,# Almacena la variable dependiente\n",
        "                                                    test_size=0.2 # Espicifico el porcentaje de los datos\n",
        "                                                                  # asignados para testear/probar el modelo\n",
        "                                                    )\n",
        "# Instanciamos la clase LinearRegression\n",
        "model4 = LinearRegression()\n",
        "\n",
        "# Ajusto el modelo a los datos de entrenamiento\n",
        "model4.fit(X_train, y_train)\n",
        "\n",
        "# Con el modelo ajustado construimos unas predicciones para los datos de test\n",
        "y_sombrero = model4.predict(X_test)\n",
        "\n",
        "# MAPE: Indicador de calidad\n",
        "MAPE_model4 = metrics.mean_absolute_percentage_error(y_test, y_sombrero)*100\n",
        "MAPE_model4 \n"
      ],
      "metadata": {
        "colab": {
          "base_uri": "https://localhost:8080/"
        },
        "id": "vDZrnkztA8Gj",
        "outputId": "0db98e30-0fe3-4fb8-a9ab-6a934f5a9375"
      },
      "execution_count": 87,
      "outputs": [
        {
          "output_type": "execute_result",
          "data": {
            "text/plain": [
              "7.934461765272285"
            ]
          },
          "metadata": {},
          "execution_count": 87
        }
      ]
    }
  ]
}